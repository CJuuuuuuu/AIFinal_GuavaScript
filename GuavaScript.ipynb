{
 "cells": [
  {
   "cell_type": "markdown",
   "source": [
    " # **GuavaScript**"
   ],
   "metadata": {}
  },
  {
   "cell_type": "markdown",
   "source": [
    " ## **Import Modules**"
   ],
   "metadata": {}
  },
  {
   "cell_type": "code",
   "execution_count": 9,
   "source": [
    "import os\n",
    "import tempfile\n",
    "import cv2\n",
    "import numpy as np\n",
    "import pandas as pd\n",
    "import tensorflow as tf\n",
    "from tensorflow.keras.preprocessing.image import ImageDataGenerator\n",
    "from tensorflow.keras.applications.vgg16 import preprocess_input\n",
    "from tensorflow.keras.preprocessing import image\n",
    "from tensorflow.keras.applications.vgg16 import decode_predictions\n",
    "from sklearn.model_selection import train_test_split\n",
    "from sklearn.preprocessing import LabelEncoder, StandardScaler\n",
    "from sklearn.ensemble import RandomForestRegressor\n",
    "from sklearn.metrics import r2_score\n",
    "from joblib import dump, load\n",
    "from skimage.feature import hog\n",
    "from pathlib import Path\n",
    "from PIL import Image\n",
    "from rembg import remove, new_session\n",
    "import gradio as gr"
   ],
   "outputs": [],
   "metadata": {}
  },
  {
   "cell_type": "code",
   "execution_count": 10,
   "source": [
    "# Get the absolute paths of the Anita folder\n",
    "anita_folder = os.path.abspath('Anita')\n",
    "for folder in Path('anita_folder').glob('*'):\n",
    "    k = 1\n",
    "    j = 1\n",
    "    FileList = []\n",
    "\n",
    "    for file in Path(folder).glob('*.jpg'):\n",
    "        FileList.append(file)\n",
    "    FileList.sort()\n",
    "\n",
    "    for file in FileList:\n",
    "        input_path = str(file)\n",
    "        output_path = str(file.parent.parent.parent / \"PhotoData\" / (file.parent.parent.stem + '_' + file.parent.stem + '_' + str(k).zfill(2) + '_' + str(j).zfill(2) + \".png\"))\n",
    "        print(input_path)\n",
    "        print(output_path)\n",
    "        if int(j) % 3 == 0:\n",
    "            k += 1\n",
    "            j = 1\n",
    "        else:\n",
    "            j += 1\n",
    "\n",
    "        with open(input_path, 'rb') as i:\n",
    "            with open(output_path, 'wb') as o:\n",
    "                input_data = i.read()\n",
    "                output = remove(input_data, session=session)\n",
    "                o.write(output)"
   ],
   "outputs": [],
   "metadata": {}
  },
  {
   "cell_type": "code",
   "execution_count": 12,
   "source": [
    "session = new_session()"
   ],
   "outputs": [
    {
     "output_type": "stream",
     "name": "stderr",
     "text": [
      "Downloading data from 'https://github.com/danielgatis/rembg/releases/download/v0.0.0/u2net.onnx' to file 'C:\\Users\\mjlin\\.u2net\\u2net.onnx'.\n",
      "100%|########################################| 176M/176M [00:00<00:00, 170GB/s]\n"
     ]
    }
   ],
   "metadata": {}
  },
  {
   "cell_type": "code",
   "execution_count": 13,
   "source": [
    "# Get the absolute paths of the Anita folder\n",
    "anita_folder = os.path.abspath('Anita')\n",
    "for folder in Path(anita_folder).glob('*'):\n",
    "    k = 1\n",
    "    j = 1\n",
    "    FileList = []\n",
    "\n",
    "    for file in Path(folder).glob('*.jpg'):\n",
    "        FileList.append(file)\n",
    "    FileList.sort()\n",
    "\n",
    "    for file in FileList:\n",
    "        input_path = str(file)\n",
    "        output_path = str(file.parent.parent.parent / \"PhotoData\" / (file.parent.parent.stem + '_' + file.parent.stem + '_' + str(k).zfill(2) + '_' + str(j).zfill(2) + \".png\"))\n",
    "        print(input_path)\n",
    "        print(output_path)\n",
    "        if int(j) % 3 == 0:\n",
    "            k += 1\n",
    "            j = 1\n",
    "        else:\n",
    "            j += 1\n",
    "\n",
    "        with open(input_path, 'rb') as i:\n",
    "            with open(output_path, 'wb') as o:\n",
    "                input_data = i.read()\n",
    "                output = remove(input_data, session=session)\n",
    "                o.write(output)"
   ],
   "outputs": [
    {
     "output_type": "stream",
     "name": "stdout",
     "text": [
      "c:\\CJ\\GuavaScript\\Anita\\A\\GUAVA_A01.jpg\n",
      "c:\\CJ\\GuavaScript\\PhotoData\\Anita_A_01_01.png\n",
      "c:\\CJ\\GuavaScript\\Anita\\A\\GUAVA_A02.jpg\n",
      "c:\\CJ\\GuavaScript\\PhotoData\\Anita_A_01_02.png\n",
      "c:\\CJ\\GuavaScript\\Anita\\A\\GUAVA_A03.jpg\n",
      "c:\\CJ\\GuavaScript\\PhotoData\\Anita_A_01_03.png\n",
      "c:\\CJ\\GuavaScript\\Anita\\A\\GUAVA_A04.jpg\n",
      "c:\\CJ\\GuavaScript\\PhotoData\\Anita_A_02_01.png\n",
      "c:\\CJ\\GuavaScript\\Anita\\A\\GUAVA_A05.jpg\n",
      "c:\\CJ\\GuavaScript\\PhotoData\\Anita_A_02_02.png\n",
      "c:\\CJ\\GuavaScript\\Anita\\A\\GUAVA_A06.jpg\n",
      "c:\\CJ\\GuavaScript\\PhotoData\\Anita_A_02_03.png\n",
      "c:\\CJ\\GuavaScript\\Anita\\A\\GUAVA_A07.jpg\n",
      "c:\\CJ\\GuavaScript\\PhotoData\\Anita_A_03_01.png\n",
      "c:\\CJ\\GuavaScript\\Anita\\A\\GUAVA_A08.jpg\n",
      "c:\\CJ\\GuavaScript\\PhotoData\\Anita_A_03_02.png\n",
      "c:\\CJ\\GuavaScript\\Anita\\A\\GUAVA_A09.jpg\n",
      "c:\\CJ\\GuavaScript\\PhotoData\\Anita_A_03_03.png\n",
      "c:\\CJ\\GuavaScript\\Anita\\A\\GUAVA_A10.jpg\n",
      "c:\\CJ\\GuavaScript\\PhotoData\\Anita_A_04_01.png\n",
      "c:\\CJ\\GuavaScript\\Anita\\A\\GUAVA_A11.jpg\n",
      "c:\\CJ\\GuavaScript\\PhotoData\\Anita_A_04_02.png\n",
      "c:\\CJ\\GuavaScript\\Anita\\A\\GUAVA_A12.jpg\n",
      "c:\\CJ\\GuavaScript\\PhotoData\\Anita_A_04_03.png\n",
      "c:\\CJ\\GuavaScript\\Anita\\A\\GUAVA_A13.jpg\n",
      "c:\\CJ\\GuavaScript\\PhotoData\\Anita_A_05_01.png\n",
      "c:\\CJ\\GuavaScript\\Anita\\A\\GUAVA_A14.jpg\n",
      "c:\\CJ\\GuavaScript\\PhotoData\\Anita_A_05_02.png\n",
      "c:\\CJ\\GuavaScript\\Anita\\A\\GUAVA_A15.jpg\n",
      "c:\\CJ\\GuavaScript\\PhotoData\\Anita_A_05_03.png\n",
      "c:\\CJ\\GuavaScript\\Anita\\A\\GUAVA_A16.jpg\n",
      "c:\\CJ\\GuavaScript\\PhotoData\\Anita_A_06_01.png\n",
      "c:\\CJ\\GuavaScript\\Anita\\A\\GUAVA_A17.jpg\n",
      "c:\\CJ\\GuavaScript\\PhotoData\\Anita_A_06_02.png\n",
      "c:\\CJ\\GuavaScript\\Anita\\A\\GUAVA_A18.jpg\n",
      "c:\\CJ\\GuavaScript\\PhotoData\\Anita_A_06_03.png\n",
      "c:\\CJ\\GuavaScript\\Anita\\A\\GUAVA_A19.jpg\n",
      "c:\\CJ\\GuavaScript\\PhotoData\\Anita_A_07_01.png\n",
      "c:\\CJ\\GuavaScript\\Anita\\A\\GUAVA_A20.jpg\n",
      "c:\\CJ\\GuavaScript\\PhotoData\\Anita_A_07_02.png\n",
      "c:\\CJ\\GuavaScript\\Anita\\A\\GUAVA_A21.jpg\n",
      "c:\\CJ\\GuavaScript\\PhotoData\\Anita_A_07_03.png\n",
      "c:\\CJ\\GuavaScript\\Anita\\A\\GUAVA_A22.jpg\n",
      "c:\\CJ\\GuavaScript\\PhotoData\\Anita_A_08_01.png\n",
      "c:\\CJ\\GuavaScript\\Anita\\A\\GUAVA_A23.jpg\n",
      "c:\\CJ\\GuavaScript\\PhotoData\\Anita_A_08_02.png\n",
      "c:\\CJ\\GuavaScript\\Anita\\A\\GUAVA_A24.jpg\n",
      "c:\\CJ\\GuavaScript\\PhotoData\\Anita_A_08_03.png\n",
      "c:\\CJ\\GuavaScript\\Anita\\A\\GUAVA_A25.jpg\n",
      "c:\\CJ\\GuavaScript\\PhotoData\\Anita_A_09_01.png\n",
      "c:\\CJ\\GuavaScript\\Anita\\A\\GUAVA_A26.jpg\n",
      "c:\\CJ\\GuavaScript\\PhotoData\\Anita_A_09_02.png\n",
      "c:\\CJ\\GuavaScript\\Anita\\A\\GUAVA_A27.jpg\n",
      "c:\\CJ\\GuavaScript\\PhotoData\\Anita_A_09_03.png\n",
      "c:\\CJ\\GuavaScript\\Anita\\A\\GUAVA_A28.jpg\n",
      "c:\\CJ\\GuavaScript\\PhotoData\\Anita_A_10_01.png\n",
      "c:\\CJ\\GuavaScript\\Anita\\A\\GUAVA_A29.jpg\n",
      "c:\\CJ\\GuavaScript\\PhotoData\\Anita_A_10_02.png\n",
      "c:\\CJ\\GuavaScript\\Anita\\A\\GUAVA_A30.jpg\n",
      "c:\\CJ\\GuavaScript\\PhotoData\\Anita_A_10_03.png\n",
      "c:\\CJ\\GuavaScript\\Anita\\A\\GUAVA_A31.jpg\n",
      "c:\\CJ\\GuavaScript\\PhotoData\\Anita_A_11_01.png\n",
      "c:\\CJ\\GuavaScript\\Anita\\A\\GUAVA_A32.jpg\n",
      "c:\\CJ\\GuavaScript\\PhotoData\\Anita_A_11_02.png\n",
      "c:\\CJ\\GuavaScript\\Anita\\A\\GUAVA_A33.jpg\n",
      "c:\\CJ\\GuavaScript\\PhotoData\\Anita_A_11_03.png\n",
      "c:\\CJ\\GuavaScript\\Anita\\A\\GUAVA_A34.jpg\n",
      "c:\\CJ\\GuavaScript\\PhotoData\\Anita_A_12_01.png\n",
      "c:\\CJ\\GuavaScript\\Anita\\A\\GUAVA_A35.jpg\n",
      "c:\\CJ\\GuavaScript\\PhotoData\\Anita_A_12_02.png\n",
      "c:\\CJ\\GuavaScript\\Anita\\A\\GUAVA_A36.jpg\n",
      "c:\\CJ\\GuavaScript\\PhotoData\\Anita_A_12_03.png\n",
      "c:\\CJ\\GuavaScript\\Anita\\B\\GUAVA_B01.jpg\n",
      "c:\\CJ\\GuavaScript\\PhotoData\\Anita_B_01_01.png\n",
      "c:\\CJ\\GuavaScript\\Anita\\B\\GUAVA_B02.jpg\n",
      "c:\\CJ\\GuavaScript\\PhotoData\\Anita_B_01_02.png\n",
      "c:\\CJ\\GuavaScript\\Anita\\B\\GUAVA_B03.jpg\n",
      "c:\\CJ\\GuavaScript\\PhotoData\\Anita_B_01_03.png\n",
      "c:\\CJ\\GuavaScript\\Anita\\B\\GUAVA_B04.jpg\n",
      "c:\\CJ\\GuavaScript\\PhotoData\\Anita_B_02_01.png\n",
      "c:\\CJ\\GuavaScript\\Anita\\B\\GUAVA_B05.jpg\n",
      "c:\\CJ\\GuavaScript\\PhotoData\\Anita_B_02_02.png\n",
      "c:\\CJ\\GuavaScript\\Anita\\B\\GUAVA_B06.jpg\n",
      "c:\\CJ\\GuavaScript\\PhotoData\\Anita_B_02_03.png\n",
      "c:\\CJ\\GuavaScript\\Anita\\B\\GUAVA_B07.jpg\n",
      "c:\\CJ\\GuavaScript\\PhotoData\\Anita_B_03_01.png\n",
      "c:\\CJ\\GuavaScript\\Anita\\B\\GUAVA_B08.jpg\n",
      "c:\\CJ\\GuavaScript\\PhotoData\\Anita_B_03_02.png\n",
      "c:\\CJ\\GuavaScript\\Anita\\B\\GUAVA_B09.jpg\n",
      "c:\\CJ\\GuavaScript\\PhotoData\\Anita_B_03_03.png\n",
      "c:\\CJ\\GuavaScript\\Anita\\B\\GUAVA_B10.jpg\n",
      "c:\\CJ\\GuavaScript\\PhotoData\\Anita_B_04_01.png\n",
      "c:\\CJ\\GuavaScript\\Anita\\B\\GUAVA_B11.jpg\n",
      "c:\\CJ\\GuavaScript\\PhotoData\\Anita_B_04_02.png\n",
      "c:\\CJ\\GuavaScript\\Anita\\B\\GUAVA_B12.jpg\n",
      "c:\\CJ\\GuavaScript\\PhotoData\\Anita_B_04_03.png\n",
      "c:\\CJ\\GuavaScript\\Anita\\B\\GUAVA_B13.jpg\n",
      "c:\\CJ\\GuavaScript\\PhotoData\\Anita_B_05_01.png\n",
      "c:\\CJ\\GuavaScript\\Anita\\B\\GUAVA_B14.jpg\n",
      "c:\\CJ\\GuavaScript\\PhotoData\\Anita_B_05_02.png\n",
      "c:\\CJ\\GuavaScript\\Anita\\B\\GUAVA_B15.jpg\n",
      "c:\\CJ\\GuavaScript\\PhotoData\\Anita_B_05_03.png\n",
      "c:\\CJ\\GuavaScript\\Anita\\C\\GUAVA_C01.jpg\n",
      "c:\\CJ\\GuavaScript\\PhotoData\\Anita_C_01_01.png\n",
      "c:\\CJ\\GuavaScript\\Anita\\C\\GUAVA_C02.jpg\n",
      "c:\\CJ\\GuavaScript\\PhotoData\\Anita_C_01_02.png\n",
      "c:\\CJ\\GuavaScript\\Anita\\C\\GUAVA_C03.jpg\n",
      "c:\\CJ\\GuavaScript\\PhotoData\\Anita_C_01_03.png\n",
      "c:\\CJ\\GuavaScript\\Anita\\C\\GUAVA_C04.jpg\n",
      "c:\\CJ\\GuavaScript\\PhotoData\\Anita_C_02_01.png\n",
      "c:\\CJ\\GuavaScript\\Anita\\C\\GUAVA_C05.jpg\n",
      "c:\\CJ\\GuavaScript\\PhotoData\\Anita_C_02_02.png\n",
      "c:\\CJ\\GuavaScript\\Anita\\C\\GUAVA_C06.jpg\n",
      "c:\\CJ\\GuavaScript\\PhotoData\\Anita_C_02_03.png\n",
      "c:\\CJ\\GuavaScript\\Anita\\C\\GUAVA_C07.jpg\n",
      "c:\\CJ\\GuavaScript\\PhotoData\\Anita_C_03_01.png\n",
      "c:\\CJ\\GuavaScript\\Anita\\C\\GUAVA_C08.jpg\n",
      "c:\\CJ\\GuavaScript\\PhotoData\\Anita_C_03_02.png\n",
      "c:\\CJ\\GuavaScript\\Anita\\C\\GUAVA_C09.jpg\n",
      "c:\\CJ\\GuavaScript\\PhotoData\\Anita_C_03_03.png\n",
      "c:\\CJ\\GuavaScript\\Anita\\D\\GUAVA_D01.jpg\n",
      "c:\\CJ\\GuavaScript\\PhotoData\\Anita_D_01_01.png\n",
      "c:\\CJ\\GuavaScript\\Anita\\D\\GUAVA_D02.jpg\n",
      "c:\\CJ\\GuavaScript\\PhotoData\\Anita_D_01_02.png\n",
      "c:\\CJ\\GuavaScript\\Anita\\D\\GUAVA_D03.jpg\n",
      "c:\\CJ\\GuavaScript\\PhotoData\\Anita_D_01_03.png\n",
      "c:\\CJ\\GuavaScript\\Anita\\D\\GUAVA_D04.jpg\n",
      "c:\\CJ\\GuavaScript\\PhotoData\\Anita_D_02_01.png\n",
      "c:\\CJ\\GuavaScript\\Anita\\D\\GUAVA_D05.jpg\n",
      "c:\\CJ\\GuavaScript\\PhotoData\\Anita_D_02_02.png\n",
      "c:\\CJ\\GuavaScript\\Anita\\D\\GUAVA_D06.jpg\n",
      "c:\\CJ\\GuavaScript\\PhotoData\\Anita_D_02_03.png\n",
      "c:\\CJ\\GuavaScript\\Anita\\D\\GUAVA_D07.jpg\n",
      "c:\\CJ\\GuavaScript\\PhotoData\\Anita_D_03_01.png\n",
      "c:\\CJ\\GuavaScript\\Anita\\D\\GUAVA_D08.jpg\n",
      "c:\\CJ\\GuavaScript\\PhotoData\\Anita_D_03_02.png\n",
      "c:\\CJ\\GuavaScript\\Anita\\D\\GUAVA_D09.jpg\n",
      "c:\\CJ\\GuavaScript\\PhotoData\\Anita_D_03_03.png\n",
      "c:\\CJ\\GuavaScript\\Anita\\D\\GUAVA_D10.jpg\n",
      "c:\\CJ\\GuavaScript\\PhotoData\\Anita_D_04_01.png\n",
      "c:\\CJ\\GuavaScript\\Anita\\D\\GUAVA_D11.jpg\n",
      "c:\\CJ\\GuavaScript\\PhotoData\\Anita_D_04_02.png\n",
      "c:\\CJ\\GuavaScript\\Anita\\D\\GUAVA_D12.jpg\n",
      "c:\\CJ\\GuavaScript\\PhotoData\\Anita_D_04_03.png\n",
      "c:\\CJ\\GuavaScript\\Anita\\D\\GUAVA_D13.jpg\n",
      "c:\\CJ\\GuavaScript\\PhotoData\\Anita_D_05_01.png\n",
      "c:\\CJ\\GuavaScript\\Anita\\D\\GUAVA_D14.jpg\n",
      "c:\\CJ\\GuavaScript\\PhotoData\\Anita_D_05_02.png\n",
      "c:\\CJ\\GuavaScript\\Anita\\D\\GUAVA_D15.jpg\n",
      "c:\\CJ\\GuavaScript\\PhotoData\\Anita_D_05_03.png\n",
      "c:\\CJ\\GuavaScript\\Anita\\D\\GUAVA_D16.jpg\n",
      "c:\\CJ\\GuavaScript\\PhotoData\\Anita_D_06_01.png\n",
      "c:\\CJ\\GuavaScript\\Anita\\D\\GUAVA_D17.jpg\n",
      "c:\\CJ\\GuavaScript\\PhotoData\\Anita_D_06_02.png\n",
      "c:\\CJ\\GuavaScript\\Anita\\D\\GUAVA_D18.jpg\n",
      "c:\\CJ\\GuavaScript\\PhotoData\\Anita_D_06_03.png\n",
      "c:\\CJ\\GuavaScript\\Anita\\D\\GUAVA_D19.jpg\n",
      "c:\\CJ\\GuavaScript\\PhotoData\\Anita_D_07_01.png\n",
      "c:\\CJ\\GuavaScript\\Anita\\D\\GUAVA_D20.jpg\n",
      "c:\\CJ\\GuavaScript\\PhotoData\\Anita_D_07_02.png\n",
      "c:\\CJ\\GuavaScript\\Anita\\D\\GUAVA_D21.jpg\n",
      "c:\\CJ\\GuavaScript\\PhotoData\\Anita_D_07_03.png\n",
      "c:\\CJ\\GuavaScript\\Anita\\D\\GUAVA_D22.jpg\n",
      "c:\\CJ\\GuavaScript\\PhotoData\\Anita_D_08_01.png\n",
      "c:\\CJ\\GuavaScript\\Anita\\D\\GUAVA_D23.jpg\n",
      "c:\\CJ\\GuavaScript\\PhotoData\\Anita_D_08_02.png\n",
      "c:\\CJ\\GuavaScript\\Anita\\D\\GUAVA_D24.jpg\n",
      "c:\\CJ\\GuavaScript\\PhotoData\\Anita_D_08_03.png\n",
      "c:\\CJ\\GuavaScript\\Anita\\E\\GUAVA_E01.jpg\n",
      "c:\\CJ\\GuavaScript\\PhotoData\\Anita_E_01_01.png\n",
      "c:\\CJ\\GuavaScript\\Anita\\E\\GUAVA_E02.jpg\n",
      "c:\\CJ\\GuavaScript\\PhotoData\\Anita_E_01_02.png\n",
      "c:\\CJ\\GuavaScript\\Anita\\E\\GUAVA_E03.jpg\n",
      "c:\\CJ\\GuavaScript\\PhotoData\\Anita_E_01_03.png\n",
      "c:\\CJ\\GuavaScript\\Anita\\E\\GUAVA_E04.jpg\n",
      "c:\\CJ\\GuavaScript\\PhotoData\\Anita_E_02_01.png\n",
      "c:\\CJ\\GuavaScript\\Anita\\E\\GUAVA_E05.jpg\n",
      "c:\\CJ\\GuavaScript\\PhotoData\\Anita_E_02_02.png\n",
      "c:\\CJ\\GuavaScript\\Anita\\E\\GUAVA_E06.jpg\n",
      "c:\\CJ\\GuavaScript\\PhotoData\\Anita_E_02_03.png\n",
      "c:\\CJ\\GuavaScript\\Anita\\E\\GUAVA_E07.jpg\n",
      "c:\\CJ\\GuavaScript\\PhotoData\\Anita_E_03_01.png\n",
      "c:\\CJ\\GuavaScript\\Anita\\E\\GUAVA_E08.jpg\n",
      "c:\\CJ\\GuavaScript\\PhotoData\\Anita_E_03_02.png\n",
      "c:\\CJ\\GuavaScript\\Anita\\E\\GUAVA_E09.jpg\n",
      "c:\\CJ\\GuavaScript\\PhotoData\\Anita_E_03_03.png\n",
      "c:\\CJ\\GuavaScript\\Anita\\E\\GUAVA_E10.jpg\n",
      "c:\\CJ\\GuavaScript\\PhotoData\\Anita_E_04_01.png\n",
      "c:\\CJ\\GuavaScript\\Anita\\E\\GUAVA_E11.jpg\n",
      "c:\\CJ\\GuavaScript\\PhotoData\\Anita_E_04_02.png\n",
      "c:\\CJ\\GuavaScript\\Anita\\E\\GUAVA_E12.jpg\n",
      "c:\\CJ\\GuavaScript\\PhotoData\\Anita_E_04_03.png\n",
      "c:\\CJ\\GuavaScript\\Anita\\E\\GUAVA_E13.jpg\n",
      "c:\\CJ\\GuavaScript\\PhotoData\\Anita_E_05_01.png\n",
      "c:\\CJ\\GuavaScript\\Anita\\E\\GUAVA_E14.jpg\n",
      "c:\\CJ\\GuavaScript\\PhotoData\\Anita_E_05_02.png\n",
      "c:\\CJ\\GuavaScript\\Anita\\E\\GUAVA_E15.jpg\n",
      "c:\\CJ\\GuavaScript\\PhotoData\\Anita_E_05_03.png\n",
      "c:\\CJ\\GuavaScript\\Anita\\E\\GUAVA_E16.jpg\n",
      "c:\\CJ\\GuavaScript\\PhotoData\\Anita_E_06_01.png\n",
      "c:\\CJ\\GuavaScript\\Anita\\E\\GUAVA_E17.jpg\n",
      "c:\\CJ\\GuavaScript\\PhotoData\\Anita_E_06_02.png\n",
      "c:\\CJ\\GuavaScript\\Anita\\E\\GUAVA_E18.jpg\n",
      "c:\\CJ\\GuavaScript\\PhotoData\\Anita_E_06_03.png\n",
      "c:\\CJ\\GuavaScript\\Anita\\E\\GUAVA_E19.jpg\n",
      "c:\\CJ\\GuavaScript\\PhotoData\\Anita_E_07_01.png\n",
      "c:\\CJ\\GuavaScript\\Anita\\E\\GUAVA_E20.jpg\n",
      "c:\\CJ\\GuavaScript\\PhotoData\\Anita_E_07_02.png\n",
      "c:\\CJ\\GuavaScript\\Anita\\E\\GUAVA_E21.jpg\n",
      "c:\\CJ\\GuavaScript\\PhotoData\\Anita_E_07_03.png\n",
      "c:\\CJ\\GuavaScript\\Anita\\E\\GUAVA_E22.jpg\n",
      "c:\\CJ\\GuavaScript\\PhotoData\\Anita_E_08_01.png\n",
      "c:\\CJ\\GuavaScript\\Anita\\E\\GUAVA_E23.jpg\n",
      "c:\\CJ\\GuavaScript\\PhotoData\\Anita_E_08_02.png\n",
      "c:\\CJ\\GuavaScript\\Anita\\E\\GUAVA_E24.jpg\n",
      "c:\\CJ\\GuavaScript\\PhotoData\\Anita_E_08_03.png\n",
      "c:\\CJ\\GuavaScript\\Anita\\E\\GUAVA_E25.jpg\n",
      "c:\\CJ\\GuavaScript\\PhotoData\\Anita_E_09_01.png\n",
      "c:\\CJ\\GuavaScript\\Anita\\E\\GUAVA_E26.jpg\n",
      "c:\\CJ\\GuavaScript\\PhotoData\\Anita_E_09_02.png\n",
      "c:\\CJ\\GuavaScript\\Anita\\E\\GUAVA_E27.jpg\n",
      "c:\\CJ\\GuavaScript\\PhotoData\\Anita_E_09_03.png\n",
      "c:\\CJ\\GuavaScript\\Anita\\E\\GUAVA_E28.jpg\n",
      "c:\\CJ\\GuavaScript\\PhotoData\\Anita_E_10_01.png\n",
      "c:\\CJ\\GuavaScript\\Anita\\E\\GUAVA_E29.jpg\n",
      "c:\\CJ\\GuavaScript\\PhotoData\\Anita_E_10_02.png\n",
      "c:\\CJ\\GuavaScript\\Anita\\E\\GUAVA_E30.jpg\n",
      "c:\\CJ\\GuavaScript\\PhotoData\\Anita_E_10_03.png\n",
      "c:\\CJ\\GuavaScript\\Anita\\E\\GUAVA_E31.jpg\n",
      "c:\\CJ\\GuavaScript\\PhotoData\\Anita_E_11_01.png\n",
      "c:\\CJ\\GuavaScript\\Anita\\E\\GUAVA_E32.jpg\n",
      "c:\\CJ\\GuavaScript\\PhotoData\\Anita_E_11_02.png\n",
      "c:\\CJ\\GuavaScript\\Anita\\E\\GUAVA_E33.jpg\n",
      "c:\\CJ\\GuavaScript\\PhotoData\\Anita_E_11_03.png\n"
     ]
    }
   ],
   "metadata": {}
  },
  {
   "cell_type": "markdown",
   "source": [
    " #### **Chloe**"
   ],
   "metadata": {}
  },
  {
   "cell_type": "code",
   "execution_count": 14,
   "source": [
    "session = new_session()"
   ],
   "outputs": [],
   "metadata": {}
  },
  {
   "cell_type": "code",
   "execution_count": 15,
   "source": [
    "# Get the absolute paths of the Chloe folder\n",
    "chloe_folder = os.path.abspath('Chloe')\n",
    "for folder in Path(chloe_folder).glob('*'):\n",
    "    k = 1\n",
    "    j = 1\n",
    "    FileList = []\n",
    "\n",
    "    for file in Path(folder).glob('*.jpg'):\n",
    "        FileList.append(file)\n",
    "    FileList.sort()\n",
    "\n",
    "    for file in FileList:\n",
    "        input_path = str(file)\n",
    "        output_path = str(file.parent.parent.parent / \"PhotoData\" / (file.stem + \".png\"))\n",
    "        print(input_path)\n",
    "        print(output_path)\n",
    "        if int(j) % 3 == 0:\n",
    "            k += 1\n",
    "            j = 1\n",
    "        else:\n",
    "            j += 1\n",
    "\n",
    "        with open(input_path, 'rb') as i:\n",
    "            with open(output_path, 'wb') as o:\n",
    "                input_data = i.read()\n",
    "                output = remove(input_data, session=session)\n",
    "                o.write(output)"
   ],
   "outputs": [
    {
     "output_type": "stream",
     "name": "stdout",
     "text": [
      "c:\\CJ\\GuavaScript\\Chloe\\A\\Chloe_A_04_01.jpg\n",
      "c:\\CJ\\GuavaScript\\PhotoData\\Chloe_A_04_01.png\n",
      "c:\\CJ\\GuavaScript\\Chloe\\A\\Chloe_A_04_02.jpg\n",
      "c:\\CJ\\GuavaScript\\PhotoData\\Chloe_A_04_02.png\n",
      "c:\\CJ\\GuavaScript\\Chloe\\A\\Chloe_A_04_03.jpg\n",
      "c:\\CJ\\GuavaScript\\PhotoData\\Chloe_A_04_03.png\n",
      "c:\\CJ\\GuavaScript\\Chloe\\A\\Chloe_A_04_04.jpg\n",
      "c:\\CJ\\GuavaScript\\PhotoData\\Chloe_A_04_04.png\n",
      "c:\\CJ\\GuavaScript\\Chloe\\A\\Chloe_A_07_01.jpg\n",
      "c:\\CJ\\GuavaScript\\PhotoData\\Chloe_A_07_01.png\n",
      "c:\\CJ\\GuavaScript\\Chloe\\A\\Chloe_A_07_02.jpg\n",
      "c:\\CJ\\GuavaScript\\PhotoData\\Chloe_A_07_02.png\n",
      "c:\\CJ\\GuavaScript\\Chloe\\A\\Chloe_A_07_03.jpg\n",
      "c:\\CJ\\GuavaScript\\PhotoData\\Chloe_A_07_03.png\n",
      "c:\\CJ\\GuavaScript\\Chloe\\A\\Chloe_A_07_04.jpg\n",
      "c:\\CJ\\GuavaScript\\PhotoData\\Chloe_A_07_04.png\n",
      "c:\\CJ\\GuavaScript\\Chloe\\B\\Chloe_B_04_01.jpg\n",
      "c:\\CJ\\GuavaScript\\PhotoData\\Chloe_B_04_01.png\n",
      "c:\\CJ\\GuavaScript\\Chloe\\B\\Chloe_B_04_02.jpg\n",
      "c:\\CJ\\GuavaScript\\PhotoData\\Chloe_B_04_02.png\n",
      "c:\\CJ\\GuavaScript\\Chloe\\B\\Chloe_B_04_03.jpg\n",
      "c:\\CJ\\GuavaScript\\PhotoData\\Chloe_B_04_03.png\n",
      "c:\\CJ\\GuavaScript\\Chloe\\B\\Chloe_B_04_04.jpg\n",
      "c:\\CJ\\GuavaScript\\PhotoData\\Chloe_B_04_04.png\n",
      "c:\\CJ\\GuavaScript\\Chloe\\B\\Chloe_B_07_01.jpg\n",
      "c:\\CJ\\GuavaScript\\PhotoData\\Chloe_B_07_01.png\n",
      "c:\\CJ\\GuavaScript\\Chloe\\B\\Chloe_B_07_02.jpg\n",
      "c:\\CJ\\GuavaScript\\PhotoData\\Chloe_B_07_02.png\n",
      "c:\\CJ\\GuavaScript\\Chloe\\B\\Chloe_B_07_03.jpg\n",
      "c:\\CJ\\GuavaScript\\PhotoData\\Chloe_B_07_03.png\n",
      "c:\\CJ\\GuavaScript\\Chloe\\B\\Chloe_B_07_04.jpg\n",
      "c:\\CJ\\GuavaScript\\PhotoData\\Chloe_B_07_04.png\n",
      "c:\\CJ\\GuavaScript\\Chloe\\B\\Chloe_B_12_01.jpg\n",
      "c:\\CJ\\GuavaScript\\PhotoData\\Chloe_B_12_01.png\n",
      "c:\\CJ\\GuavaScript\\Chloe\\B\\Chloe_B_12_02.jpg\n",
      "c:\\CJ\\GuavaScript\\PhotoData\\Chloe_B_12_02.png\n",
      "c:\\CJ\\GuavaScript\\Chloe\\B\\Chloe_B_12_03.jpg\n",
      "c:\\CJ\\GuavaScript\\PhotoData\\Chloe_B_12_03.png\n",
      "c:\\CJ\\GuavaScript\\Chloe\\B\\Chloe_B_12_04.jpg\n",
      "c:\\CJ\\GuavaScript\\PhotoData\\Chloe_B_12_04.png\n",
      "c:\\CJ\\GuavaScript\\Chloe\\C\\Chloe_C_04_01.jpg\n",
      "c:\\CJ\\GuavaScript\\PhotoData\\Chloe_C_04_01.png\n",
      "c:\\CJ\\GuavaScript\\Chloe\\C\\Chloe_C_04_02.jpg\n",
      "c:\\CJ\\GuavaScript\\PhotoData\\Chloe_C_04_02.png\n",
      "c:\\CJ\\GuavaScript\\Chloe\\C\\Chloe_C_04_03.jpg\n",
      "c:\\CJ\\GuavaScript\\PhotoData\\Chloe_C_04_03.png\n",
      "c:\\CJ\\GuavaScript\\Chloe\\C\\Chloe_C_04_04.jpg\n",
      "c:\\CJ\\GuavaScript\\PhotoData\\Chloe_C_04_04.png\n",
      "c:\\CJ\\GuavaScript\\Chloe\\C\\Chloe_C_07_01.jpg\n",
      "c:\\CJ\\GuavaScript\\PhotoData\\Chloe_C_07_01.png\n",
      "c:\\CJ\\GuavaScript\\Chloe\\C\\Chloe_C_07_02.jpg\n",
      "c:\\CJ\\GuavaScript\\PhotoData\\Chloe_C_07_02.png\n",
      "c:\\CJ\\GuavaScript\\Chloe\\C\\Chloe_C_07_03.jpg\n",
      "c:\\CJ\\GuavaScript\\PhotoData\\Chloe_C_07_03.png\n",
      "c:\\CJ\\GuavaScript\\Chloe\\C\\Chloe_C_07_04.jpg\n",
      "c:\\CJ\\GuavaScript\\PhotoData\\Chloe_C_07_04.png\n",
      "c:\\CJ\\GuavaScript\\Chloe\\C\\Chloe_C_12_01.jpg\n",
      "c:\\CJ\\GuavaScript\\PhotoData\\Chloe_C_12_01.png\n",
      "c:\\CJ\\GuavaScript\\Chloe\\C\\Chloe_C_12_02.jpg\n",
      "c:\\CJ\\GuavaScript\\PhotoData\\Chloe_C_12_02.png\n",
      "c:\\CJ\\GuavaScript\\Chloe\\C\\Chloe_C_12_03.jpg\n",
      "c:\\CJ\\GuavaScript\\PhotoData\\Chloe_C_12_03.png\n",
      "c:\\CJ\\GuavaScript\\Chloe\\C\\Chloe_C_12_04.jpg\n",
      "c:\\CJ\\GuavaScript\\PhotoData\\Chloe_C_12_04.png\n",
      "c:\\CJ\\GuavaScript\\Chloe\\D\\Chloe_D_04_01.jpg\n",
      "c:\\CJ\\GuavaScript\\PhotoData\\Chloe_D_04_01.png\n",
      "c:\\CJ\\GuavaScript\\Chloe\\D\\Chloe_D_04_02.jpg\n",
      "c:\\CJ\\GuavaScript\\PhotoData\\Chloe_D_04_02.png\n",
      "c:\\CJ\\GuavaScript\\Chloe\\D\\Chloe_D_04_03.jpg\n",
      "c:\\CJ\\GuavaScript\\PhotoData\\Chloe_D_04_03.png\n",
      "c:\\CJ\\GuavaScript\\Chloe\\D\\Chloe_D_04_04.jpg\n",
      "c:\\CJ\\GuavaScript\\PhotoData\\Chloe_D_04_04.png\n",
      "c:\\CJ\\GuavaScript\\Chloe\\D\\Chloe_D_07_01.jpg\n",
      "c:\\CJ\\GuavaScript\\PhotoData\\Chloe_D_07_01.png\n",
      "c:\\CJ\\GuavaScript\\Chloe\\D\\Chloe_D_07_02.jpg\n",
      "c:\\CJ\\GuavaScript\\PhotoData\\Chloe_D_07_02.png\n",
      "c:\\CJ\\GuavaScript\\Chloe\\D\\Chloe_D_07_03.jpg\n",
      "c:\\CJ\\GuavaScript\\PhotoData\\Chloe_D_07_03.png\n",
      "c:\\CJ\\GuavaScript\\Chloe\\D\\Chloe_D_07_04.jpg\n",
      "c:\\CJ\\GuavaScript\\PhotoData\\Chloe_D_07_04.png\n",
      "c:\\CJ\\GuavaScript\\Chloe\\D\\Chloe_D_12_01.jpg\n",
      "c:\\CJ\\GuavaScript\\PhotoData\\Chloe_D_12_01.png\n",
      "c:\\CJ\\GuavaScript\\Chloe\\D\\Chloe_D_12_02.jpg\n",
      "c:\\CJ\\GuavaScript\\PhotoData\\Chloe_D_12_02.png\n",
      "c:\\CJ\\GuavaScript\\Chloe\\D\\Chloe_D_12_03.jpg\n",
      "c:\\CJ\\GuavaScript\\PhotoData\\Chloe_D_12_03.png\n",
      "c:\\CJ\\GuavaScript\\Chloe\\D\\Chloe_D_12_04.jpg\n",
      "c:\\CJ\\GuavaScript\\PhotoData\\Chloe_D_12_04.png\n",
      "c:\\CJ\\GuavaScript\\Chloe\\E\\Chloe_E_04_01.jpg\n",
      "c:\\CJ\\GuavaScript\\PhotoData\\Chloe_E_04_01.png\n",
      "c:\\CJ\\GuavaScript\\Chloe\\E\\Chloe_E_04_02.jpg\n",
      "c:\\CJ\\GuavaScript\\PhotoData\\Chloe_E_04_02.png\n",
      "c:\\CJ\\GuavaScript\\Chloe\\E\\Chloe_E_04_03.jpg\n",
      "c:\\CJ\\GuavaScript\\PhotoData\\Chloe_E_04_03.png\n",
      "c:\\CJ\\GuavaScript\\Chloe\\E\\Chloe_E_04_04.jpg\n",
      "c:\\CJ\\GuavaScript\\PhotoData\\Chloe_E_04_04.png\n",
      "c:\\CJ\\GuavaScript\\Chloe\\E\\Chloe_E_07_01.jpg\n",
      "c:\\CJ\\GuavaScript\\PhotoData\\Chloe_E_07_01.png\n",
      "c:\\CJ\\GuavaScript\\Chloe\\E\\Chloe_E_07_02.jpg\n",
      "c:\\CJ\\GuavaScript\\PhotoData\\Chloe_E_07_02.png\n",
      "c:\\CJ\\GuavaScript\\Chloe\\E\\Chloe_E_07_03.jpg\n",
      "c:\\CJ\\GuavaScript\\PhotoData\\Chloe_E_07_03.png\n",
      "c:\\CJ\\GuavaScript\\Chloe\\E\\Chloe_E_07_04.jpg\n",
      "c:\\CJ\\GuavaScript\\PhotoData\\Chloe_E_07_04.png\n",
      "c:\\CJ\\GuavaScript\\Chloe\\E\\Chloe_E_12_01.jpg\n",
      "c:\\CJ\\GuavaScript\\PhotoData\\Chloe_E_12_01.png\n",
      "c:\\CJ\\GuavaScript\\Chloe\\E\\Chloe_E_12_02.jpg\n",
      "c:\\CJ\\GuavaScript\\PhotoData\\Chloe_E_12_02.png\n",
      "c:\\CJ\\GuavaScript\\Chloe\\E\\Chloe_E_12_03.jpg\n",
      "c:\\CJ\\GuavaScript\\PhotoData\\Chloe_E_12_03.png\n",
      "c:\\CJ\\GuavaScript\\Chloe\\E\\Chloe_E_12_04.jpg\n",
      "c:\\CJ\\GuavaScript\\PhotoData\\Chloe_E_12_04.png\n"
     ]
    }
   ],
   "metadata": {}
  },
  {
   "cell_type": "markdown",
   "source": [
    " #### **Jenny**"
   ],
   "metadata": {}
  },
  {
   "cell_type": "code",
   "execution_count": 16,
   "source": [
    "session = new_session()"
   ],
   "outputs": [],
   "metadata": {}
  },
  {
   "cell_type": "code",
   "execution_count": 17,
   "source": [
    "# Get the absolute paths of the Jenny folder\n",
    "jenny_folder = os.path.abspath('Jenny')\n",
    "for folder in Path(jenny_folder).glob('*'):\n",
    "    k = 1\n",
    "    j = 1\n",
    "    FileList = []\n",
    "\n",
    "    for file in Path(folder).glob('*.jpg'):\n",
    "        FileList.append(file)\n",
    "    FileList.sort()\n",
    "\n",
    "    for file in FileList:\n",
    "        input_path = str(file)\n",
    "        output_path = str(file.parent.parent.parent / \"PhotoData\" / (file.parent.parent.stem + '_' + file.parent.stem + '_' + file.stem + \".png\"))\n",
    "        print(input_path)\n",
    "        print(output_path)\n",
    "        if int(j) % 3 == 0:\n",
    "            k += 1\n",
    "            j = 1\n",
    "        else:\n",
    "            j += 1\n",
    "\n",
    "        with open(input_path, 'rb') as i:\n",
    "            with open(output_path, 'wb') as o:\n",
    "                input_data = i.read()\n",
    "                output = remove(input_data, session=session)\n",
    "                o.write(output)"
   ],
   "outputs": [
    {
     "output_type": "stream",
     "name": "stdout",
     "text": [
      "c:\\CJ\\GuavaScript\\Jenny\\A\\03_01.jpg\n",
      "c:\\CJ\\GuavaScript\\PhotoData\\Jenny_A_03_01.png\n",
      "c:\\CJ\\GuavaScript\\Jenny\\A\\03_02.jpg\n",
      "c:\\CJ\\GuavaScript\\PhotoData\\Jenny_A_03_02.png\n",
      "c:\\CJ\\GuavaScript\\Jenny\\A\\03_03.jpg\n",
      "c:\\CJ\\GuavaScript\\PhotoData\\Jenny_A_03_03.png\n",
      "c:\\CJ\\GuavaScript\\Jenny\\A\\03_04.jpg\n",
      "c:\\CJ\\GuavaScript\\PhotoData\\Jenny_A_03_04.png\n",
      "c:\\CJ\\GuavaScript\\Jenny\\A\\06_01.jpg\n",
      "c:\\CJ\\GuavaScript\\PhotoData\\Jenny_A_06_01.png\n",
      "c:\\CJ\\GuavaScript\\Jenny\\A\\06_02.jpg\n",
      "c:\\CJ\\GuavaScript\\PhotoData\\Jenny_A_06_02.png\n",
      "c:\\CJ\\GuavaScript\\Jenny\\A\\06_03.jpg\n",
      "c:\\CJ\\GuavaScript\\PhotoData\\Jenny_A_06_03.png\n",
      "c:\\CJ\\GuavaScript\\Jenny\\A\\06_04.jpg\n",
      "c:\\CJ\\GuavaScript\\PhotoData\\Jenny_A_06_04.png\n",
      "c:\\CJ\\GuavaScript\\Jenny\\A\\09_01.jpg\n",
      "c:\\CJ\\GuavaScript\\PhotoData\\Jenny_A_09_01.png\n",
      "c:\\CJ\\GuavaScript\\Jenny\\A\\09_02.jpg\n",
      "c:\\CJ\\GuavaScript\\PhotoData\\Jenny_A_09_02.png\n",
      "c:\\CJ\\GuavaScript\\Jenny\\A\\09_03.jpg\n",
      "c:\\CJ\\GuavaScript\\PhotoData\\Jenny_A_09_03.png\n",
      "c:\\CJ\\GuavaScript\\Jenny\\A\\09_04.jpg\n",
      "c:\\CJ\\GuavaScript\\PhotoData\\Jenny_A_09_04.png\n",
      "c:\\CJ\\GuavaScript\\Jenny\\A\\12_01.jpg\n",
      "c:\\CJ\\GuavaScript\\PhotoData\\Jenny_A_12_01.png\n",
      "c:\\CJ\\GuavaScript\\Jenny\\A\\12_02.jpg\n",
      "c:\\CJ\\GuavaScript\\PhotoData\\Jenny_A_12_02.png\n",
      "c:\\CJ\\GuavaScript\\Jenny\\A\\12_03.jpg\n",
      "c:\\CJ\\GuavaScript\\PhotoData\\Jenny_A_12_03.png\n",
      "c:\\CJ\\GuavaScript\\Jenny\\A\\12_04.jpg\n",
      "c:\\CJ\\GuavaScript\\PhotoData\\Jenny_A_12_04.png\n",
      "c:\\CJ\\GuavaScript\\Jenny\\A\\15_01.jpg\n",
      "c:\\CJ\\GuavaScript\\PhotoData\\Jenny_A_15_01.png\n",
      "c:\\CJ\\GuavaScript\\Jenny\\A\\15_02.jpg\n",
      "c:\\CJ\\GuavaScript\\PhotoData\\Jenny_A_15_02.png\n",
      "c:\\CJ\\GuavaScript\\Jenny\\A\\15_03.jpg\n",
      "c:\\CJ\\GuavaScript\\PhotoData\\Jenny_A_15_03.png\n",
      "c:\\CJ\\GuavaScript\\Jenny\\A\\15_04.jpg\n",
      "c:\\CJ\\GuavaScript\\PhotoData\\Jenny_A_15_04.png\n",
      "c:\\CJ\\GuavaScript\\Jenny\\B\\03_01.jpg\n",
      "c:\\CJ\\GuavaScript\\PhotoData\\Jenny_B_03_01.png\n",
      "c:\\CJ\\GuavaScript\\Jenny\\B\\03_02.jpg\n",
      "c:\\CJ\\GuavaScript\\PhotoData\\Jenny_B_03_02.png\n",
      "c:\\CJ\\GuavaScript\\Jenny\\B\\03_03.jpg\n",
      "c:\\CJ\\GuavaScript\\PhotoData\\Jenny_B_03_03.png\n",
      "c:\\CJ\\GuavaScript\\Jenny\\B\\03_04.jpg\n",
      "c:\\CJ\\GuavaScript\\PhotoData\\Jenny_B_03_04.png\n",
      "c:\\CJ\\GuavaScript\\Jenny\\C\\03_01.jpg\n",
      "c:\\CJ\\GuavaScript\\PhotoData\\Jenny_C_03_01.png\n",
      "c:\\CJ\\GuavaScript\\Jenny\\C\\03_02.jpg\n",
      "c:\\CJ\\GuavaScript\\PhotoData\\Jenny_C_03_02.png\n",
      "c:\\CJ\\GuavaScript\\Jenny\\C\\03_03.jpg\n",
      "c:\\CJ\\GuavaScript\\PhotoData\\Jenny_C_03_03.png\n",
      "c:\\CJ\\GuavaScript\\Jenny\\C\\03_04.jpg\n",
      "c:\\CJ\\GuavaScript\\PhotoData\\Jenny_C_03_04.png\n",
      "c:\\CJ\\GuavaScript\\Jenny\\C\\06_01.jpg\n",
      "c:\\CJ\\GuavaScript\\PhotoData\\Jenny_C_06_01.png\n",
      "c:\\CJ\\GuavaScript\\Jenny\\C\\06_02.jpg\n",
      "c:\\CJ\\GuavaScript\\PhotoData\\Jenny_C_06_02.png\n",
      "c:\\CJ\\GuavaScript\\Jenny\\C\\06_03.jpg\n",
      "c:\\CJ\\GuavaScript\\PhotoData\\Jenny_C_06_03.png\n",
      "c:\\CJ\\GuavaScript\\Jenny\\C\\06_04.jpg\n",
      "c:\\CJ\\GuavaScript\\PhotoData\\Jenny_C_06_04.png\n",
      "c:\\CJ\\GuavaScript\\Jenny\\C\\09_01.jpg\n",
      "c:\\CJ\\GuavaScript\\PhotoData\\Jenny_C_09_01.png\n",
      "c:\\CJ\\GuavaScript\\Jenny\\C\\09_02.jpg\n",
      "c:\\CJ\\GuavaScript\\PhotoData\\Jenny_C_09_02.png\n",
      "c:\\CJ\\GuavaScript\\Jenny\\C\\09_03.jpg\n",
      "c:\\CJ\\GuavaScript\\PhotoData\\Jenny_C_09_03.png\n",
      "c:\\CJ\\GuavaScript\\Jenny\\C\\09_04.jpg\n",
      "c:\\CJ\\GuavaScript\\PhotoData\\Jenny_C_09_04.png\n",
      "c:\\CJ\\GuavaScript\\Jenny\\C\\12_01.jpg\n",
      "c:\\CJ\\GuavaScript\\PhotoData\\Jenny_C_12_01.png\n",
      "c:\\CJ\\GuavaScript\\Jenny\\C\\12_02.jpg\n",
      "c:\\CJ\\GuavaScript\\PhotoData\\Jenny_C_12_02.png\n",
      "c:\\CJ\\GuavaScript\\Jenny\\C\\12_03.jpg\n",
      "c:\\CJ\\GuavaScript\\PhotoData\\Jenny_C_12_03.png\n",
      "c:\\CJ\\GuavaScript\\Jenny\\C\\12_04.jpg\n",
      "c:\\CJ\\GuavaScript\\PhotoData\\Jenny_C_12_04.png\n",
      "c:\\CJ\\GuavaScript\\Jenny\\D\\03_01.jpg\n",
      "c:\\CJ\\GuavaScript\\PhotoData\\Jenny_D_03_01.png\n",
      "c:\\CJ\\GuavaScript\\Jenny\\D\\03_02.jpg\n",
      "c:\\CJ\\GuavaScript\\PhotoData\\Jenny_D_03_02.png\n",
      "c:\\CJ\\GuavaScript\\Jenny\\D\\03_03.jpg\n",
      "c:\\CJ\\GuavaScript\\PhotoData\\Jenny_D_03_03.png\n",
      "c:\\CJ\\GuavaScript\\Jenny\\D\\03_04.jpg\n",
      "c:\\CJ\\GuavaScript\\PhotoData\\Jenny_D_03_04.png\n",
      "c:\\CJ\\GuavaScript\\Jenny\\D\\06_01.jpg\n",
      "c:\\CJ\\GuavaScript\\PhotoData\\Jenny_D_06_01.png\n",
      "c:\\CJ\\GuavaScript\\Jenny\\D\\06_02.jpg\n",
      "c:\\CJ\\GuavaScript\\PhotoData\\Jenny_D_06_02.png\n",
      "c:\\CJ\\GuavaScript\\Jenny\\D\\06_03.jpg\n",
      "c:\\CJ\\GuavaScript\\PhotoData\\Jenny_D_06_03.png\n",
      "c:\\CJ\\GuavaScript\\Jenny\\D\\06_04.jpg\n",
      "c:\\CJ\\GuavaScript\\PhotoData\\Jenny_D_06_04.png\n",
      "c:\\CJ\\GuavaScript\\Jenny\\E\\03_01.jpg\n",
      "c:\\CJ\\GuavaScript\\PhotoData\\Jenny_E_03_01.png\n",
      "c:\\CJ\\GuavaScript\\Jenny\\E\\03_02.jpg\n",
      "c:\\CJ\\GuavaScript\\PhotoData\\Jenny_E_03_02.png\n",
      "c:\\CJ\\GuavaScript\\Jenny\\E\\03_03.jpg\n",
      "c:\\CJ\\GuavaScript\\PhotoData\\Jenny_E_03_03.png\n",
      "c:\\CJ\\GuavaScript\\Jenny\\E\\03_04.jpg\n",
      "c:\\CJ\\GuavaScript\\PhotoData\\Jenny_E_03_04.png\n",
      "c:\\CJ\\GuavaScript\\Jenny\\E\\06_01.jpg\n",
      "c:\\CJ\\GuavaScript\\PhotoData\\Jenny_E_06_01.png\n",
      "c:\\CJ\\GuavaScript\\Jenny\\E\\06_02.jpg\n",
      "c:\\CJ\\GuavaScript\\PhotoData\\Jenny_E_06_02.png\n",
      "c:\\CJ\\GuavaScript\\Jenny\\E\\06_03.jpg\n",
      "c:\\CJ\\GuavaScript\\PhotoData\\Jenny_E_06_03.png\n",
      "c:\\CJ\\GuavaScript\\Jenny\\E\\06_04.jpg\n",
      "c:\\CJ\\GuavaScript\\PhotoData\\Jenny_E_06_04.png\n",
      "c:\\CJ\\GuavaScript\\Jenny\\E\\09_01.jpg\n",
      "c:\\CJ\\GuavaScript\\PhotoData\\Jenny_E_09_01.png\n",
      "c:\\CJ\\GuavaScript\\Jenny\\E\\09_02.jpg\n",
      "c:\\CJ\\GuavaScript\\PhotoData\\Jenny_E_09_02.png\n",
      "c:\\CJ\\GuavaScript\\Jenny\\E\\09_03.jpg\n",
      "c:\\CJ\\GuavaScript\\PhotoData\\Jenny_E_09_03.png\n",
      "c:\\CJ\\GuavaScript\\Jenny\\E\\09_04.jpg\n",
      "c:\\CJ\\GuavaScript\\PhotoData\\Jenny_E_09_04.png\n",
      "c:\\CJ\\GuavaScript\\Jenny\\F\\03_01.jpg\n",
      "c:\\CJ\\GuavaScript\\PhotoData\\Jenny_F_03_01.png\n",
      "c:\\CJ\\GuavaScript\\Jenny\\F\\03_02.jpg\n",
      "c:\\CJ\\GuavaScript\\PhotoData\\Jenny_F_03_02.png\n",
      "c:\\CJ\\GuavaScript\\Jenny\\F\\03_03.jpg\n",
      "c:\\CJ\\GuavaScript\\PhotoData\\Jenny_F_03_03.png\n",
      "c:\\CJ\\GuavaScript\\Jenny\\F\\03_04.jpg\n",
      "c:\\CJ\\GuavaScript\\PhotoData\\Jenny_F_03_04.png\n",
      "c:\\CJ\\GuavaScript\\Jenny\\F\\06_01.jpg\n",
      "c:\\CJ\\GuavaScript\\PhotoData\\Jenny_F_06_01.png\n",
      "c:\\CJ\\GuavaScript\\Jenny\\F\\06_02.jpg\n",
      "c:\\CJ\\GuavaScript\\PhotoData\\Jenny_F_06_02.png\n",
      "c:\\CJ\\GuavaScript\\Jenny\\F\\06_03.jpg\n",
      "c:\\CJ\\GuavaScript\\PhotoData\\Jenny_F_06_03.png\n",
      "c:\\CJ\\GuavaScript\\Jenny\\F\\06_04.jpg\n",
      "c:\\CJ\\GuavaScript\\PhotoData\\Jenny_F_06_04.png\n",
      "c:\\CJ\\GuavaScript\\Jenny\\F\\09_01.jpg\n",
      "c:\\CJ\\GuavaScript\\PhotoData\\Jenny_F_09_01.png\n",
      "c:\\CJ\\GuavaScript\\Jenny\\F\\09_02.jpg\n",
      "c:\\CJ\\GuavaScript\\PhotoData\\Jenny_F_09_02.png\n",
      "c:\\CJ\\GuavaScript\\Jenny\\F\\09_03.jpg\n",
      "c:\\CJ\\GuavaScript\\PhotoData\\Jenny_F_09_03.png\n",
      "c:\\CJ\\GuavaScript\\Jenny\\F\\09_04.jpg\n",
      "c:\\CJ\\GuavaScript\\PhotoData\\Jenny_F_09_04.png\n"
     ]
    }
   ],
   "metadata": {}
  },
  {
   "cell_type": "markdown",
   "source": [
    " #### **Julia**"
   ],
   "metadata": {}
  },
  {
   "cell_type": "code",
   "execution_count": 18,
   "source": [
    "session = new_session()"
   ],
   "outputs": [],
   "metadata": {}
  },
  {
   "cell_type": "code",
   "execution_count": 19,
   "source": [
    "# Get the absolute paths of the Julia folder\n",
    "julia_folder = os.path.abspath('Julia')\n",
    "for folder in Path(julia_folder).glob('*'):\n",
    "    k = 1\n",
    "    j = 1\n",
    "    FileList = []\n",
    "\n",
    "    for file in Path(folder).glob('*.jpg'):\n",
    "        FileList.append(file)\n",
    "    FileList.sort()\n",
    "\n",
    "    for file in FileList:\n",
    "        input_path = str(file)\n",
    "        output_path = str(file.parent.parent.parent / \"PhotoData\" / (file.parent.parent.stem + '_' + file.parent.stem + '_' + str(k).zfill(2) + '_' + str(j).zfill(2) + \".png\"))\n",
    "        print(input_path)\n",
    "        print(output_path)\n",
    "        if int(j) % 4 == 0:\n",
    "            k += 1\n",
    "            j = 1\n",
    "        else:\n",
    "            j += 1\n",
    "\n",
    "        with open(input_path, 'rb') as i:\n",
    "            with open(output_path, 'wb') as o:\n",
    "                input_data = i.read()\n",
    "                output = remove(input_data, session=session)\n",
    "                o.write(output)"
   ],
   "outputs": [
    {
     "output_type": "stream",
     "name": "stdout",
     "text": [
      "c:\\CJ\\GuavaScript\\Julia\\A\\IMG_0091.jpg\n",
      "c:\\CJ\\GuavaScript\\PhotoData\\Julia_A_01_01.png\n",
      "c:\\CJ\\GuavaScript\\Julia\\A\\IMG_0092.jpg\n",
      "c:\\CJ\\GuavaScript\\PhotoData\\Julia_A_01_02.png\n",
      "c:\\CJ\\GuavaScript\\Julia\\A\\IMG_0093.jpg\n",
      "c:\\CJ\\GuavaScript\\PhotoData\\Julia_A_01_03.png\n",
      "c:\\CJ\\GuavaScript\\Julia\\A\\IMG_0094.jpg\n",
      "c:\\CJ\\GuavaScript\\PhotoData\\Julia_A_01_04.png\n",
      "c:\\CJ\\GuavaScript\\Julia\\B\\IMG_0095.jpg\n",
      "c:\\CJ\\GuavaScript\\PhotoData\\Julia_B_01_01.png\n",
      "c:\\CJ\\GuavaScript\\Julia\\B\\IMG_0096.jpg\n",
      "c:\\CJ\\GuavaScript\\PhotoData\\Julia_B_01_02.png\n",
      "c:\\CJ\\GuavaScript\\Julia\\B\\IMG_0097.jpg\n",
      "c:\\CJ\\GuavaScript\\PhotoData\\Julia_B_01_03.png\n",
      "c:\\CJ\\GuavaScript\\Julia\\B\\IMG_0098.jpg\n",
      "c:\\CJ\\GuavaScript\\PhotoData\\Julia_B_01_04.png\n",
      "c:\\CJ\\GuavaScript\\Julia\\B\\IMG_0108.jpg\n",
      "c:\\CJ\\GuavaScript\\PhotoData\\Julia_B_02_01.png\n",
      "c:\\CJ\\GuavaScript\\Julia\\B\\IMG_0109.jpg\n",
      "c:\\CJ\\GuavaScript\\PhotoData\\Julia_B_02_02.png\n",
      "c:\\CJ\\GuavaScript\\Julia\\B\\IMG_0110.jpg\n",
      "c:\\CJ\\GuavaScript\\PhotoData\\Julia_B_02_03.png\n",
      "c:\\CJ\\GuavaScript\\Julia\\B\\IMG_0111.jpg\n",
      "c:\\CJ\\GuavaScript\\PhotoData\\Julia_B_02_04.png\n",
      "c:\\CJ\\GuavaScript\\Julia\\B\\IMG_0120.jpg\n",
      "c:\\CJ\\GuavaScript\\PhotoData\\Julia_B_03_01.png\n",
      "c:\\CJ\\GuavaScript\\Julia\\B\\IMG_0121.jpg\n",
      "c:\\CJ\\GuavaScript\\PhotoData\\Julia_B_03_02.png\n",
      "c:\\CJ\\GuavaScript\\Julia\\B\\IMG_0122.jpg\n",
      "c:\\CJ\\GuavaScript\\PhotoData\\Julia_B_03_03.png\n",
      "c:\\CJ\\GuavaScript\\Julia\\B\\IMG_0123.jpg\n",
      "c:\\CJ\\GuavaScript\\PhotoData\\Julia_B_03_04.png\n",
      "c:\\CJ\\GuavaScript\\Julia\\B\\IMG_0147.jpg\n",
      "c:\\CJ\\GuavaScript\\PhotoData\\Julia_B_04_01.png\n",
      "c:\\CJ\\GuavaScript\\Julia\\B\\IMG_0148.jpg\n",
      "c:\\CJ\\GuavaScript\\PhotoData\\Julia_B_04_02.png\n",
      "c:\\CJ\\GuavaScript\\Julia\\B\\IMG_0149.jpg\n",
      "c:\\CJ\\GuavaScript\\PhotoData\\Julia_B_04_03.png\n",
      "c:\\CJ\\GuavaScript\\Julia\\B\\IMG_0150.jpg\n",
      "c:\\CJ\\GuavaScript\\PhotoData\\Julia_B_04_04.png\n",
      "c:\\CJ\\GuavaScript\\Julia\\B\\IMG_0161.jpg\n",
      "c:\\CJ\\GuavaScript\\PhotoData\\Julia_B_05_01.png\n",
      "c:\\CJ\\GuavaScript\\Julia\\B\\IMG_0162.jpg\n",
      "c:\\CJ\\GuavaScript\\PhotoData\\Julia_B_05_02.png\n",
      "c:\\CJ\\GuavaScript\\Julia\\B\\IMG_0163.jpg\n",
      "c:\\CJ\\GuavaScript\\PhotoData\\Julia_B_05_03.png\n",
      "c:\\CJ\\GuavaScript\\Julia\\B\\IMG_0164.jpg\n",
      "c:\\CJ\\GuavaScript\\PhotoData\\Julia_B_05_04.png\n",
      "c:\\CJ\\GuavaScript\\Julia\\C\\IMG_0099.jpg\n",
      "c:\\CJ\\GuavaScript\\PhotoData\\Julia_C_01_01.png\n",
      "c:\\CJ\\GuavaScript\\Julia\\C\\IMG_0100.jpg\n",
      "c:\\CJ\\GuavaScript\\PhotoData\\Julia_C_01_02.png\n",
      "c:\\CJ\\GuavaScript\\Julia\\C\\IMG_0101.jpg\n",
      "c:\\CJ\\GuavaScript\\PhotoData\\Julia_C_01_03.png\n",
      "c:\\CJ\\GuavaScript\\Julia\\C\\IMG_0102.jpg\n",
      "c:\\CJ\\GuavaScript\\PhotoData\\Julia_C_01_04.png\n",
      "c:\\CJ\\GuavaScript\\Julia\\C\\IMG_0112.jpg\n",
      "c:\\CJ\\GuavaScript\\PhotoData\\Julia_C_02_01.png\n",
      "c:\\CJ\\GuavaScript\\Julia\\C\\IMG_0113.jpg\n",
      "c:\\CJ\\GuavaScript\\PhotoData\\Julia_C_02_02.png\n",
      "c:\\CJ\\GuavaScript\\Julia\\C\\IMG_0114.jpg\n",
      "c:\\CJ\\GuavaScript\\PhotoData\\Julia_C_02_03.png\n",
      "c:\\CJ\\GuavaScript\\Julia\\C\\IMG_0115.jpg\n",
      "c:\\CJ\\GuavaScript\\PhotoData\\Julia_C_02_04.png\n",
      "c:\\CJ\\GuavaScript\\Julia\\C\\IMG_0124.jpg\n",
      "c:\\CJ\\GuavaScript\\PhotoData\\Julia_C_03_01.png\n",
      "c:\\CJ\\GuavaScript\\Julia\\C\\IMG_0125.jpg\n",
      "c:\\CJ\\GuavaScript\\PhotoData\\Julia_C_03_02.png\n",
      "c:\\CJ\\GuavaScript\\Julia\\C\\IMG_0126.jpg\n",
      "c:\\CJ\\GuavaScript\\PhotoData\\Julia_C_03_03.png\n",
      "c:\\CJ\\GuavaScript\\Julia\\C\\IMG_0127.jpg\n",
      "c:\\CJ\\GuavaScript\\PhotoData\\Julia_C_03_04.png\n",
      "c:\\CJ\\GuavaScript\\Julia\\C\\IMG_0151.jpg\n",
      "c:\\CJ\\GuavaScript\\PhotoData\\Julia_C_04_01.png\n",
      "c:\\CJ\\GuavaScript\\Julia\\C\\IMG_0152.jpg\n",
      "c:\\CJ\\GuavaScript\\PhotoData\\Julia_C_04_02.png\n",
      "c:\\CJ\\GuavaScript\\Julia\\C\\IMG_0153.jpg\n",
      "c:\\CJ\\GuavaScript\\PhotoData\\Julia_C_04_03.png\n",
      "c:\\CJ\\GuavaScript\\Julia\\C\\IMG_0154.jpg\n",
      "c:\\CJ\\GuavaScript\\PhotoData\\Julia_C_04_04.png\n",
      "c:\\CJ\\GuavaScript\\Julia\\C\\IMG_0165.jpg\n",
      "c:\\CJ\\GuavaScript\\PhotoData\\Julia_C_05_01.png\n",
      "c:\\CJ\\GuavaScript\\Julia\\C\\IMG_0166.jpg\n",
      "c:\\CJ\\GuavaScript\\PhotoData\\Julia_C_05_02.png\n",
      "c:\\CJ\\GuavaScript\\Julia\\C\\IMG_0167.jpg\n",
      "c:\\CJ\\GuavaScript\\PhotoData\\Julia_C_05_03.png\n",
      "c:\\CJ\\GuavaScript\\Julia\\C\\IMG_0168.jpg\n",
      "c:\\CJ\\GuavaScript\\PhotoData\\Julia_C_05_04.png\n",
      "c:\\CJ\\GuavaScript\\Julia\\C\\IMG_0190.jpg\n",
      "c:\\CJ\\GuavaScript\\PhotoData\\Julia_C_06_01.png\n",
      "c:\\CJ\\GuavaScript\\Julia\\C\\IMG_0191.jpg\n",
      "c:\\CJ\\GuavaScript\\PhotoData\\Julia_C_06_02.png\n",
      "c:\\CJ\\GuavaScript\\Julia\\C\\IMG_0192.jpg\n",
      "c:\\CJ\\GuavaScript\\PhotoData\\Julia_C_06_03.png\n",
      "c:\\CJ\\GuavaScript\\Julia\\C\\IMG_0193.jpg\n",
      "c:\\CJ\\GuavaScript\\PhotoData\\Julia_C_06_04.png\n",
      "c:\\CJ\\GuavaScript\\Julia\\C\\IMG_0202.jpg\n",
      "c:\\CJ\\GuavaScript\\PhotoData\\Julia_C_07_01.png\n",
      "c:\\CJ\\GuavaScript\\Julia\\C\\IMG_0203.jpg\n",
      "c:\\CJ\\GuavaScript\\PhotoData\\Julia_C_07_02.png\n",
      "c:\\CJ\\GuavaScript\\Julia\\C\\IMG_0204.jpg\n",
      "c:\\CJ\\GuavaScript\\PhotoData\\Julia_C_07_03.png\n",
      "c:\\CJ\\GuavaScript\\Julia\\C\\IMG_0205.jpg\n",
      "c:\\CJ\\GuavaScript\\PhotoData\\Julia_C_07_04.png\n",
      "c:\\CJ\\GuavaScript\\Julia\\C\\IMG_0211.jpg\n",
      "c:\\CJ\\GuavaScript\\PhotoData\\Julia_C_08_01.png\n",
      "c:\\CJ\\GuavaScript\\Julia\\C\\IMG_0212.jpg\n",
      "c:\\CJ\\GuavaScript\\PhotoData\\Julia_C_08_02.png\n",
      "c:\\CJ\\GuavaScript\\Julia\\C\\IMG_0213.jpg\n",
      "c:\\CJ\\GuavaScript\\PhotoData\\Julia_C_08_03.png\n",
      "c:\\CJ\\GuavaScript\\Julia\\C\\IMG_0214.jpg\n",
      "c:\\CJ\\GuavaScript\\PhotoData\\Julia_C_08_04.png\n",
      "c:\\CJ\\GuavaScript\\Julia\\C\\IMG_0220.jpg\n",
      "c:\\CJ\\GuavaScript\\PhotoData\\Julia_C_09_01.png\n",
      "c:\\CJ\\GuavaScript\\Julia\\C\\IMG_0221.jpg\n",
      "c:\\CJ\\GuavaScript\\PhotoData\\Julia_C_09_02.png\n",
      "c:\\CJ\\GuavaScript\\Julia\\C\\IMG_0222.jpg\n",
      "c:\\CJ\\GuavaScript\\PhotoData\\Julia_C_09_03.png\n",
      "c:\\CJ\\GuavaScript\\Julia\\C\\IMG_0223.jpg\n",
      "c:\\CJ\\GuavaScript\\PhotoData\\Julia_C_09_04.png\n",
      "c:\\CJ\\GuavaScript\\Julia\\C\\IMG_0228.jpg\n",
      "c:\\CJ\\GuavaScript\\PhotoData\\Julia_C_10_01.png\n",
      "c:\\CJ\\GuavaScript\\Julia\\C\\IMG_0229.jpg\n",
      "c:\\CJ\\GuavaScript\\PhotoData\\Julia_C_10_02.png\n",
      "c:\\CJ\\GuavaScript\\Julia\\C\\IMG_0230.jpg\n",
      "c:\\CJ\\GuavaScript\\PhotoData\\Julia_C_10_03.png\n",
      "c:\\CJ\\GuavaScript\\Julia\\C\\IMG_0231.jpg\n",
      "c:\\CJ\\GuavaScript\\PhotoData\\Julia_C_10_04.png\n",
      "c:\\CJ\\GuavaScript\\Julia\\D\\IMG_0104.jpg\n",
      "c:\\CJ\\GuavaScript\\PhotoData\\Julia_D_01_01.png\n",
      "c:\\CJ\\GuavaScript\\Julia\\D\\IMG_0105.jpg\n",
      "c:\\CJ\\GuavaScript\\PhotoData\\Julia_D_01_02.png\n",
      "c:\\CJ\\GuavaScript\\Julia\\D\\IMG_0106.jpg\n",
      "c:\\CJ\\GuavaScript\\PhotoData\\Julia_D_01_03.png\n",
      "c:\\CJ\\GuavaScript\\Julia\\D\\IMG_0107.jpg\n",
      "c:\\CJ\\GuavaScript\\PhotoData\\Julia_D_01_04.png\n",
      "c:\\CJ\\GuavaScript\\Julia\\D\\IMG_0116.jpg\n",
      "c:\\CJ\\GuavaScript\\PhotoData\\Julia_D_02_01.png\n",
      "c:\\CJ\\GuavaScript\\Julia\\D\\IMG_0117.jpg\n",
      "c:\\CJ\\GuavaScript\\PhotoData\\Julia_D_02_02.png\n",
      "c:\\CJ\\GuavaScript\\Julia\\D\\IMG_0118.jpg\n",
      "c:\\CJ\\GuavaScript\\PhotoData\\Julia_D_02_03.png\n",
      "c:\\CJ\\GuavaScript\\Julia\\D\\IMG_0119.jpg\n",
      "c:\\CJ\\GuavaScript\\PhotoData\\Julia_D_02_04.png\n",
      "c:\\CJ\\GuavaScript\\Julia\\D\\IMG_0128.jpg\n",
      "c:\\CJ\\GuavaScript\\PhotoData\\Julia_D_03_01.png\n",
      "c:\\CJ\\GuavaScript\\Julia\\D\\IMG_0129.jpg\n",
      "c:\\CJ\\GuavaScript\\PhotoData\\Julia_D_03_02.png\n",
      "c:\\CJ\\GuavaScript\\Julia\\D\\IMG_0130.jpg\n",
      "c:\\CJ\\GuavaScript\\PhotoData\\Julia_D_03_03.png\n",
      "c:\\CJ\\GuavaScript\\Julia\\D\\IMG_0131.jpg\n",
      "c:\\CJ\\GuavaScript\\PhotoData\\Julia_D_03_04.png\n",
      "c:\\CJ\\GuavaScript\\Julia\\D\\IMG_0155.jpg\n",
      "c:\\CJ\\GuavaScript\\PhotoData\\Julia_D_04_01.png\n",
      "c:\\CJ\\GuavaScript\\Julia\\D\\IMG_0156.jpg\n",
      "c:\\CJ\\GuavaScript\\PhotoData\\Julia_D_04_02.png\n",
      "c:\\CJ\\GuavaScript\\Julia\\D\\IMG_0157.jpg\n",
      "c:\\CJ\\GuavaScript\\PhotoData\\Julia_D_04_03.png\n",
      "c:\\CJ\\GuavaScript\\Julia\\D\\IMG_0158.jpg\n",
      "c:\\CJ\\GuavaScript\\PhotoData\\Julia_D_04_04.png\n",
      "c:\\CJ\\GuavaScript\\Julia\\D\\IMG_0169.jpg\n",
      "c:\\CJ\\GuavaScript\\PhotoData\\Julia_D_05_01.png\n",
      "c:\\CJ\\GuavaScript\\Julia\\D\\IMG_0170.jpg\n",
      "c:\\CJ\\GuavaScript\\PhotoData\\Julia_D_05_02.png\n",
      "c:\\CJ\\GuavaScript\\Julia\\D\\IMG_0171.jpg\n",
      "c:\\CJ\\GuavaScript\\PhotoData\\Julia_D_05_03.png\n",
      "c:\\CJ\\GuavaScript\\Julia\\D\\IMG_0172.jpg\n",
      "c:\\CJ\\GuavaScript\\PhotoData\\Julia_D_05_04.png\n",
      "c:\\CJ\\GuavaScript\\Julia\\D\\IMG_0194.jpg\n",
      "c:\\CJ\\GuavaScript\\PhotoData\\Julia_D_06_01.png\n",
      "c:\\CJ\\GuavaScript\\Julia\\D\\IMG_0195.jpg\n",
      "c:\\CJ\\GuavaScript\\PhotoData\\Julia_D_06_02.png\n",
      "c:\\CJ\\GuavaScript\\Julia\\D\\IMG_0196.jpg\n",
      "c:\\CJ\\GuavaScript\\PhotoData\\Julia_D_06_03.png\n",
      "c:\\CJ\\GuavaScript\\Julia\\D\\IMG_0197.jpg\n",
      "c:\\CJ\\GuavaScript\\PhotoData\\Julia_D_06_04.png\n",
      "c:\\CJ\\GuavaScript\\Julia\\D\\IMG_0206.jpg\n",
      "c:\\CJ\\GuavaScript\\PhotoData\\Julia_D_07_01.png\n",
      "c:\\CJ\\GuavaScript\\Julia\\D\\IMG_0207.jpg\n",
      "c:\\CJ\\GuavaScript\\PhotoData\\Julia_D_07_02.png\n",
      "c:\\CJ\\GuavaScript\\Julia\\D\\IMG_0208.jpg\n",
      "c:\\CJ\\GuavaScript\\PhotoData\\Julia_D_07_03.png\n",
      "c:\\CJ\\GuavaScript\\Julia\\D\\IMG_0209.jpg\n",
      "c:\\CJ\\GuavaScript\\PhotoData\\Julia_D_07_04.png\n",
      "c:\\CJ\\GuavaScript\\Julia\\D\\IMG_0215.jpg\n",
      "c:\\CJ\\GuavaScript\\PhotoData\\Julia_D_08_01.png\n",
      "c:\\CJ\\GuavaScript\\Julia\\D\\IMG_0216.jpg\n",
      "c:\\CJ\\GuavaScript\\PhotoData\\Julia_D_08_02.png\n",
      "c:\\CJ\\GuavaScript\\Julia\\D\\IMG_0217.jpg\n",
      "c:\\CJ\\GuavaScript\\PhotoData\\Julia_D_08_03.png\n",
      "c:\\CJ\\GuavaScript\\Julia\\D\\IMG_0218.jpg\n",
      "c:\\CJ\\GuavaScript\\PhotoData\\Julia_D_08_04.png\n",
      "c:\\CJ\\GuavaScript\\Julia\\D\\IMG_0224.jpg\n",
      "c:\\CJ\\GuavaScript\\PhotoData\\Julia_D_09_01.png\n",
      "c:\\CJ\\GuavaScript\\Julia\\D\\IMG_0225.jpg\n",
      "c:\\CJ\\GuavaScript\\PhotoData\\Julia_D_09_02.png\n",
      "c:\\CJ\\GuavaScript\\Julia\\D\\IMG_0226.jpg\n",
      "c:\\CJ\\GuavaScript\\PhotoData\\Julia_D_09_03.png\n",
      "c:\\CJ\\GuavaScript\\Julia\\D\\IMG_0227.jpg\n",
      "c:\\CJ\\GuavaScript\\PhotoData\\Julia_D_09_04.png\n",
      "c:\\CJ\\GuavaScript\\Julia\\D\\IMG_0232.jpg\n",
      "c:\\CJ\\GuavaScript\\PhotoData\\Julia_D_10_01.png\n",
      "c:\\CJ\\GuavaScript\\Julia\\D\\IMG_0233.jpg\n",
      "c:\\CJ\\GuavaScript\\PhotoData\\Julia_D_10_02.png\n",
      "c:\\CJ\\GuavaScript\\Julia\\D\\IMG_0234.jpg\n",
      "c:\\CJ\\GuavaScript\\PhotoData\\Julia_D_10_03.png\n",
      "c:\\CJ\\GuavaScript\\Julia\\D\\IMG_0235.jpg\n",
      "c:\\CJ\\GuavaScript\\PhotoData\\Julia_D_10_04.png\n",
      "c:\\CJ\\GuavaScript\\Julia\\D\\IMG_0239.jpg\n",
      "c:\\CJ\\GuavaScript\\PhotoData\\Julia_D_11_01.png\n",
      "c:\\CJ\\GuavaScript\\Julia\\D\\IMG_0240.jpg\n",
      "c:\\CJ\\GuavaScript\\PhotoData\\Julia_D_11_02.png\n",
      "c:\\CJ\\GuavaScript\\Julia\\D\\IMG_0241.jpg\n",
      "c:\\CJ\\GuavaScript\\PhotoData\\Julia_D_11_03.png\n",
      "c:\\CJ\\GuavaScript\\Julia\\D\\IMG_0242.jpg\n",
      "c:\\CJ\\GuavaScript\\PhotoData\\Julia_D_11_04.png\n",
      "c:\\CJ\\GuavaScript\\Julia\\D\\IMG_0243.jpg\n",
      "c:\\CJ\\GuavaScript\\PhotoData\\Julia_D_12_01.png\n",
      "c:\\CJ\\GuavaScript\\Julia\\D\\IMG_0244.jpg\n",
      "c:\\CJ\\GuavaScript\\PhotoData\\Julia_D_12_02.png\n",
      "c:\\CJ\\GuavaScript\\Julia\\D\\IMG_0245.jpg\n",
      "c:\\CJ\\GuavaScript\\PhotoData\\Julia_D_12_03.png\n",
      "c:\\CJ\\GuavaScript\\Julia\\D\\IMG_0246.jpg\n",
      "c:\\CJ\\GuavaScript\\PhotoData\\Julia_D_12_04.png\n",
      "c:\\CJ\\GuavaScript\\Julia\\D\\IMG_0249.jpg\n",
      "c:\\CJ\\GuavaScript\\PhotoData\\Julia_D_13_01.png\n",
      "c:\\CJ\\GuavaScript\\Julia\\D\\IMG_0250.jpg\n",
      "c:\\CJ\\GuavaScript\\PhotoData\\Julia_D_13_02.png\n",
      "c:\\CJ\\GuavaScript\\Julia\\D\\IMG_0251.jpg\n",
      "c:\\CJ\\GuavaScript\\PhotoData\\Julia_D_13_03.png\n",
      "c:\\CJ\\GuavaScript\\Julia\\D\\IMG_0252.jpg\n",
      "c:\\CJ\\GuavaScript\\PhotoData\\Julia_D_13_04.png\n",
      "c:\\CJ\\GuavaScript\\Julia\\D\\IMG_0273.jpg\n",
      "c:\\CJ\\GuavaScript\\PhotoData\\Julia_D_14_01.png\n",
      "c:\\CJ\\GuavaScript\\Julia\\D\\IMG_0274.jpg\n",
      "c:\\CJ\\GuavaScript\\PhotoData\\Julia_D_14_02.png\n",
      "c:\\CJ\\GuavaScript\\Julia\\D\\IMG_0275.jpg\n",
      "c:\\CJ\\GuavaScript\\PhotoData\\Julia_D_14_03.png\n",
      "c:\\CJ\\GuavaScript\\Julia\\D\\IMG_0276.jpg\n",
      "c:\\CJ\\GuavaScript\\PhotoData\\Julia_D_14_04.png\n",
      "c:\\CJ\\GuavaScript\\Julia\\D\\IMG_0281.jpg\n",
      "c:\\CJ\\GuavaScript\\PhotoData\\Julia_D_15_01.png\n",
      "c:\\CJ\\GuavaScript\\Julia\\D\\IMG_0282.jpg\n",
      "c:\\CJ\\GuavaScript\\PhotoData\\Julia_D_15_02.png\n",
      "c:\\CJ\\GuavaScript\\Julia\\D\\IMG_0283.jpg\n",
      "c:\\CJ\\GuavaScript\\PhotoData\\Julia_D_15_03.png\n",
      "c:\\CJ\\GuavaScript\\Julia\\D\\IMG_0284.jpg\n",
      "c:\\CJ\\GuavaScript\\PhotoData\\Julia_D_15_04.png\n"
     ]
    }
   ],
   "metadata": {}
  },
  {
   "cell_type": "markdown",
   "source": [
    " ### **Create Photo Tags File**"
   ],
   "metadata": {}
  },
  {
   "cell_type": "code",
   "execution_count": 20,
   "source": [
    "import csv"
   ],
   "outputs": [],
   "metadata": {}
  },
  {
   "cell_type": "code",
   "execution_count": 21,
   "source": [
    "# Open the file in write mode\n",
    "with open('Photo_Tag.csv', 'w') as f:\n",
    "    # Create the csv writer\n",
    "    writer = csv.writer(f)\n",
    "    header = ['FileName', 'Origin', 'Day']\n",
    "    writer.writerow(header)\n",
    "\n",
    "    FileList = []\n",
    "    # Get the absolute paths of the PhotoData folder\n",
    "    photo_folder = os.path.abspath('PhotoData')\n",
    "    for file in Path(photo_folder).glob('*.png'):\n",
    "        FileList.append(file)\n",
    "    FileList.sort()\n",
    "\n",
    "    for file in FileList:\n",
    "        FileName = str(file.stem)\n",
    "        Day = FileName.split('_')\n",
    "        Day = str(Day[-2])\n",
    "        row = [FileName + '.png', ' ', Day]\n",
    "        # Write a row to the csv file\n",
    "        writer.writerow(row)"
   ],
   "outputs": [],
   "metadata": {}
  },
  {
   "cell_type": "code",
   "execution_count": 22,
   "source": [
    "print('Done!')"
   ],
   "outputs": [
    {
     "output_type": "stream",
     "name": "stdout",
     "text": [
      "Done!\n"
     ]
    }
   ],
   "metadata": {}
  },
  {
   "cell_type": "markdown",
   "source": [
    " ### **Get Training Data**"
   ],
   "metadata": {}
  },
  {
   "cell_type": "code",
   "execution_count": 23,
   "source": [
    "# Load the CSV files into pandas DataFrames\n",
    "df1 = pd.read_csv('Machine1.csv')\n",
    "df2 = pd.read_csv('Machine2.csv')"
   ],
   "outputs": [],
   "metadata": {}
  },
  {
   "cell_type": "code",
   "execution_count": 24,
   "source": [
    "# Specify the columns to join on\n",
    "join_columns = ['Origin', 'Day', '灌溉/澆水頻率', '施肥頻率', '田間栽培管理/耕地管理頻率', '有害生物防治頻率']"
   ],
   "outputs": [],
   "metadata": {}
  },
  {
   "cell_type": "code",
   "execution_count": 25,
   "source": [
    "# Perform the join operation\n",
    "merged_df = pd.merge(df1, df2, on=join_columns)"
   ],
   "outputs": [],
   "metadata": {}
  },
  {
   "cell_type": "code",
   "execution_count": 26,
   "source": [
    "# Save the merged DataFrame to a new CSV file\n",
    "merged_df.to_csv('Machine2_new.csv', index=False)"
   ],
   "outputs": [],
   "metadata": {}
  },
  {
   "cell_type": "markdown",
   "source": [
    " ### **Get Testing Data**"
   ],
   "metadata": {}
  },
  {
   "cell_type": "code",
   "execution_count": 27,
   "source": [
    "# Load the first CSV file\n",
    "df1 = pd.read_csv('Machine1.csv')"
   ],
   "outputs": [],
   "metadata": {}
  },
  {
   "cell_type": "code",
   "execution_count": 28,
   "source": [
    "# Load the second CSV file\n",
    "df2 = pd.read_csv('Machine3.csv')"
   ],
   "outputs": [],
   "metadata": {}
  },
  {
   "cell_type": "code",
   "execution_count": 29,
   "source": [
    "# Column to check for matching values\n",
    "column_to_check = 'File Name'  # Replace 'column_name' with the actual column name"
   ],
   "outputs": [],
   "metadata": {}
  },
  {
   "cell_type": "code",
   "execution_count": 30,
   "source": [
    "# Find the matching values\n",
    "matching_values = df1[df1[column_to_check].isin(df2[column_to_check])][column_to_check]"
   ],
   "outputs": [],
   "metadata": {}
  },
  {
   "cell_type": "code",
   "execution_count": 31,
   "source": [
    "# Drop the lines with matching values from the first DataFrame\n",
    "df1 = df1[~df1[column_to_check].isin(matching_values)]"
   ],
   "outputs": [],
   "metadata": {}
  },
  {
   "cell_type": "code",
   "execution_count": 32,
   "source": [
    "# Save the remaining lines to a new CSV file\n",
    "df1.to_csv('TestData.csv', index=False)"
   ],
   "outputs": [],
   "metadata": {}
  },
  {
   "cell_type": "markdown",
   "source": [
    " ## **Use guava info to predict guava quality**"
   ],
   "metadata": {}
  },
  {
   "cell_type": "markdown",
   "source": [
    " ### **Identify the day of the guava**"
   ],
   "metadata": {}
  },
  {
   "cell_type": "code",
   "execution_count": 33,
   "source": [
    "# Read the CSV file\n",
    "dataset = pd.read_csv('Machine1.csv')"
   ],
   "outputs": [],
   "metadata": {}
  },
  {
   "cell_type": "code",
   "execution_count": 34,
   "source": [
    "# Access the columns\n",
    "file_names = dataset['File Name']\n",
    "#origin_attributes = dataset['Origin']\n",
    "day_labels = dataset['Day']\n",
    "#yield_attributes = dataset['平均產量(每公頃)']\n",
    "#rain_attributes = dataset['年雨量']\n",
    "#temper_attributes = dataset['年均溫']\n",
    "#water_attributes = dataset['灌溉/澆水頻率']\n",
    "#fertilize_attributes = dataset['施肥頻率']\n",
    "#manage_attributes = dataset['田間栽培管理/耕地管理頻率']\n",
    "#creature_attributes = dataset['有害生物防治頻率']"
   ],
   "outputs": [],
   "metadata": {}
  },
  {
   "cell_type": "code",
   "execution_count": 35,
   "source": [
    "# Load the guava photos into memory\n",
    "photo_directory = 'PhotoData'"
   ],
   "outputs": [],
   "metadata": {}
  },
  {
   "cell_type": "code",
   "execution_count": 36,
   "source": [
    "guava_photos = []"
   ],
   "outputs": [],
   "metadata": {}
  },
  {
   "cell_type": "code",
   "execution_count": 37,
   "source": [
    "for file_name in file_names:\n",
    "    photo_path = f\"{photo_directory}/{file_name}\"\n",
    "    photo = tf.keras.preprocessing.image.load_img(photo_path, target_size=(224, 224))\n",
    "    photo = tf.keras.preprocessing.image.img_to_array(photo)\n",
    "    guava_photos.append(photo)"
   ],
   "outputs": [],
   "metadata": {}
  },
  {
   "cell_type": "code",
   "execution_count": 38,
   "source": [
    "# Convert the lists to numpy arrays\n",
    "photo = np.array(guava_photos)\n",
    "day = np.array(day_labels)"
   ],
   "outputs": [],
   "metadata": {}
  },
  {
   "cell_type": "code",
   "execution_count": 39,
   "source": [
    "# Split the data into training and testing sets\n",
    "X_train_img, X_test_img, y_train, y_test = train_test_split(photo, day, test_size=0.2, random_state=42)"
   ],
   "outputs": [],
   "metadata": {}
  },
  {
   "cell_type": "code",
   "execution_count": 40,
   "source": [
    "# Create an ImageDataGenerator for data augmentation\n",
    "image_datagen = ImageDataGenerator(\n",
    "    rescale=1./255,\n",
    "    rotation_range=20,\n",
    "    width_shift_range=0.2,\n",
    "    height_shift_range=0.2,\n",
    "    shear_range=0.2,\n",
    "    zoom_range=0.2,\n",
    "    horizontal_flip=True,\n",
    "    vertical_flip=True,\n",
    "    fill_mode='nearest'\n",
    ")"
   ],
   "outputs": [],
   "metadata": {}
  },
  {
   "cell_type": "code",
   "execution_count": 41,
   "source": [
    "# Generate augmented training data\n",
    "train_data_augmented = image_datagen.flow(X_train_img, y_train, batch_size=32)"
   ],
   "outputs": [],
   "metadata": {}
  },
  {
   "cell_type": "code",
   "execution_count": 42,
   "source": [
    "# Use original validation data for evaluation (no augmentation)\n",
    "validation_data = image_datagen.flow(X_test_img, y_test, batch_size=32)"
   ],
   "outputs": [],
   "metadata": {}
  },
  {
   "cell_type": "code",
   "execution_count": 43,
   "source": [
    "# Create the VGG16 model\n",
    "base_model = tf.keras.applications.VGG16(weights='imagenet', include_top=False, input_shape=(224, 224, 3))"
   ],
   "outputs": [
    {
     "output_type": "stream",
     "name": "stdout",
     "text": [
      "Downloading data from https://storage.googleapis.com/tensorflow/keras-applications/vgg16/vgg16_weights_tf_dim_ordering_tf_kernels_notop.h5\n",
      "58889256/58889256 [==============================] - 41s 1us/step\n"
     ]
    }
   ],
   "metadata": {}
  },
  {
   "cell_type": "code",
   "execution_count": 44,
   "source": [
    "# Add custom top layers\n",
    "x = base_model.output\n",
    "x = tf.keras.layers.GlobalAveragePooling2D()(x)\n",
    "x = tf.keras.layers.Dense(64, activation='relu')(x)\n",
    "predictions = tf.keras.layers.Dense(1, activation='linear')(x)"
   ],
   "outputs": [],
   "metadata": {}
  },
  {
   "cell_type": "code",
   "execution_count": 45,
   "source": [
    "model = tf.keras.models.Model(inputs=base_model.input, outputs=predictions)"
   ],
   "outputs": [],
   "metadata": {}
  },
  {
   "cell_type": "code",
   "execution_count": 46,
   "source": [
    "# Compile the model\n",
    "model.compile(optimizer='adam', loss='mean_squared_error')"
   ],
   "outputs": [],
   "metadata": {}
  },
  {
   "cell_type": "code",
   "execution_count": 47,
   "source": [
    "# Train the model with augmented data\n",
    "model.fit(train_data_augmented, epochs=10, validation_data=validation_data)"
   ],
   "outputs": [
    {
     "output_type": "stream",
     "name": "stdout",
     "text": [
      "Epoch 1/10\n",
      "10/10 [==============================] - 136s 13s/step - loss: 1761.2238 - val_loss: 40.7140\n",
      "Epoch 2/10\n",
      "10/10 [==============================] - 144s 14s/step - loss: 49.6706 - val_loss: 67.7434\n",
      "Epoch 3/10\n",
      "10/10 [==============================] - 139s 14s/step - loss: 64.7247 - val_loss: 58.6113\n",
      "Epoch 4/10\n",
      "10/10 [==============================] - 136s 15s/step - loss: 48.4039 - val_loss: 39.4678\n",
      "Epoch 5/10\n",
      "10/10 [==============================] - 140s 14s/step - loss: 49.5858 - val_loss: 39.2611\n",
      "Epoch 6/10\n",
      "10/10 [==============================] - 134s 15s/step - loss: 42.3771 - val_loss: 50.7085\n",
      "Epoch 7/10\n",
      "10/10 [==============================] - 145s 15s/step - loss: 44.9004 - val_loss: 42.8394\n",
      "Epoch 8/10\n",
      "10/10 [==============================] - 124s 12s/step - loss: 45.0045 - val_loss: 37.9504\n",
      "Epoch 9/10\n",
      "10/10 [==============================] - 122s 12s/step - loss: 42.9396 - val_loss: 45.0934\n",
      "Epoch 10/10\n",
      "10/10 [==============================] - 121s 12s/step - loss: 43.7031 - val_loss: 37.8632\n"
     ]
    },
    {
     "output_type": "execute_result",
     "data": {
      "text/plain": [
       "<keras.src.callbacks.History at 0x155922de4d0>"
      ]
     },
     "metadata": {},
     "execution_count": 47
    }
   ],
   "metadata": {}
  },
  {
   "cell_type": "code",
   "execution_count": 48,
   "source": [
    "# Evaluate the model\n",
    "loss = model.evaluate(train_data_augmented)\n",
    "print(\"Test Loss:\", loss)"
   ],
   "outputs": [
    {
     "output_type": "stream",
     "name": "stdout",
     "text": [
      "10/10 [==============================] - 25s 2s/step - loss: 40.9505\n",
      "Test Loss: 40.9504508972168\n"
     ]
    }
   ],
   "metadata": {}
  },
  {
   "cell_type": "code",
   "execution_count": 49,
   "source": [
    "# Save the model as an H5 file\n",
    "model.save(\"DayAI.h5\")"
   ],
   "outputs": [
    {
     "output_type": "stream",
     "name": "stderr",
     "text": [
      "c:\\CJ\\GuavaScript\\.conda\\lib\\site-packages\\keras\\src\\engine\\training.py:3000: UserWarning: You are saving your model as an HDF5 file via `model.save()`. This file format is considered legacy. We recommend using instead the native Keras format, e.g. `model.save('my_model.keras')`.\n",
      "  saving_api.save_model(\n"
     ]
    }
   ],
   "metadata": {}
  },
  {
   "cell_type": "code",
   "execution_count": 50,
   "source": [
    "# Get the predicted ages\n",
    "y_pred = model.predict(validation_data)"
   ],
   "outputs": [
    {
     "output_type": "stream",
     "name": "stdout",
     "text": [
      "3/3 [==============================] - 7s 2s/step\n"
     ]
    }
   ],
   "metadata": {}
  },
  {
   "cell_type": "code",
   "execution_count": 51,
   "source": [
    "# Calculate R-squared value\n",
    "r2 = r2_score(y_test, y_pred)\n",
    "print('R-squared:', r2)"
   ],
   "outputs": [
    {
     "output_type": "stream",
     "name": "stdout",
     "text": [
      "R-squared: -0.04811490394530704\n"
     ]
    }
   ],
   "metadata": {}
  },
  {
   "cell_type": "markdown",
   "source": [
    " ### **Identify the quality of the guava**"
   ],
   "metadata": {}
  },
  {
   "cell_type": "code",
   "execution_count": 52,
   "source": [
    "# Load the data from the CSV file\n",
    "data = pd.read_csv('Machine3.csv')"
   ],
   "outputs": [],
   "metadata": {}
  },
  {
   "cell_type": "code",
   "execution_count": 53,
   "source": [
    "# Load the guava photos into memory\n",
    "photo_directory = 'PhotoData'"
   ],
   "outputs": [],
   "metadata": {}
  },
  {
   "cell_type": "code",
   "execution_count": 54,
   "source": [
    "# Load and preprocess the images\n",
    "images = []\n",
    "for image_file in data['File Name']:\n",
    "    image_file = f\"{photo_directory}/{image_file}\"\n",
    "    image = cv2.imread(image_file)\n",
    "    image = cv2.cvtColor(image, cv2.COLOR_BGR2GRAY)\n",
    "    image = cv2.resize(image, (128, 128))  # Adjust the size as needed\n",
    "    features = hog(image)  # Extract image features using HOG (Histogram of Oriented Gradients)\n",
    "    images.append(features)"
   ],
   "outputs": [],
   "metadata": {}
  },
  {
   "cell_type": "code",
   "execution_count": 55,
   "source": [
    "X_images = pd.DataFrame(images)"
   ],
   "outputs": [],
   "metadata": {}
  },
  {
   "cell_type": "code",
   "execution_count": 56,
   "source": [
    "# Combine image features with other features\n",
    "X = pd.concat([X_images, data.drop(['Sweetness', 'Sourness', 'Crunchiness', 'Hardness', 'Flavor', 'File Name'], axis=1)], axis=1)\n",
    "y = data[['Sweetness', 'Sourness', 'Crunchiness', 'Hardness', 'Flavor']]"
   ],
   "outputs": [],
   "metadata": {}
  },
  {
   "cell_type": "code",
   "execution_count": 57,
   "source": [
    "# Convert column names to strings\n",
    "X.columns = X.columns.astype(str)"
   ],
   "outputs": [],
   "metadata": {}
  },
  {
   "cell_type": "code",
   "execution_count": 58,
   "source": [
    "# Encode categorical variables if any\n",
    "encoder = LabelEncoder()\n",
    "X['Origin'] = encoder.fit_transform(X['Origin'])"
   ],
   "outputs": [],
   "metadata": {}
  },
  {
   "cell_type": "code",
   "execution_count": 59,
   "source": [
    "# Scale the features\n",
    "scaler = StandardScaler()\n",
    "X_scaled = scaler.fit_transform(X.iloc[:, -9:])"
   ],
   "outputs": [],
   "metadata": {}
  },
  {
   "cell_type": "code",
   "execution_count": 60,
   "source": [
    "# Assign weights to features\n",
    "feature_weights = [1.5, 3, 1.5, 1.5, 1.5, 2, 2, 2, 2]  # Adjust the weights as desired\n",
    "X_scaled_weighted = X_scaled * feature_weights"
   ],
   "outputs": [],
   "metadata": {}
  },
  {
   "cell_type": "code",
   "execution_count": 61,
   "source": [
    "# Select the non-scaled features\n",
    "X_non_scaled = 1000000 * X.iloc[:, :-9]"
   ],
   "outputs": [],
   "metadata": {}
  },
  {
   "cell_type": "code",
   "execution_count": 62,
   "source": [
    "# Combine the scaled and non-scaled features\n",
    "X_combined = pd.concat([X_non_scaled, pd.DataFrame(X_scaled_weighted, columns=X.columns[-9:])], axis=1)"
   ],
   "outputs": [],
   "metadata": {}
  },
  {
   "cell_type": "code",
   "execution_count": 63,
   "source": [
    "# Scale the combined features\n",
    "X = scaler.fit_transform(X_combined)"
   ],
   "outputs": [],
   "metadata": {}
  },
  {
   "cell_type": "code",
   "execution_count": 64,
   "source": [
    "# Split the data into training and testing sets\n",
    "X_train, X_test, y_train, y_test = train_test_split(X, y, test_size=0.2, random_state=42)"
   ],
   "outputs": [],
   "metadata": {}
  },
  {
   "cell_type": "code",
   "execution_count": 65,
   "source": [
    "# Train a random forest regressor model\n",
    "model = RandomForestRegressor(n_estimators=100, random_state=42)\n",
    "model.fit(X_train, y_train)"
   ],
   "outputs": [
    {
     "output_type": "execute_result",
     "data": {
      "text/html": [
       "<style>#sk-container-id-1 {color: black;}#sk-container-id-1 pre{padding: 0;}#sk-container-id-1 div.sk-toggleable {background-color: white;}#sk-container-id-1 label.sk-toggleable__label {cursor: pointer;display: block;width: 100%;margin-bottom: 0;padding: 0.3em;box-sizing: border-box;text-align: center;}#sk-container-id-1 label.sk-toggleable__label-arrow:before {content: \"▸\";float: left;margin-right: 0.25em;color: #696969;}#sk-container-id-1 label.sk-toggleable__label-arrow:hover:before {color: black;}#sk-container-id-1 div.sk-estimator:hover label.sk-toggleable__label-arrow:before {color: black;}#sk-container-id-1 div.sk-toggleable__content {max-height: 0;max-width: 0;overflow: hidden;text-align: left;background-color: #f0f8ff;}#sk-container-id-1 div.sk-toggleable__content pre {margin: 0.2em;color: black;border-radius: 0.25em;background-color: #f0f8ff;}#sk-container-id-1 input.sk-toggleable__control:checked~div.sk-toggleable__content {max-height: 200px;max-width: 100%;overflow: auto;}#sk-container-id-1 input.sk-toggleable__control:checked~label.sk-toggleable__label-arrow:before {content: \"▾\";}#sk-container-id-1 div.sk-estimator input.sk-toggleable__control:checked~label.sk-toggleable__label {background-color: #d4ebff;}#sk-container-id-1 div.sk-label input.sk-toggleable__control:checked~label.sk-toggleable__label {background-color: #d4ebff;}#sk-container-id-1 input.sk-hidden--visually {border: 0;clip: rect(1px 1px 1px 1px);clip: rect(1px, 1px, 1px, 1px);height: 1px;margin: -1px;overflow: hidden;padding: 0;position: absolute;width: 1px;}#sk-container-id-1 div.sk-estimator {font-family: monospace;background-color: #f0f8ff;border: 1px dotted black;border-radius: 0.25em;box-sizing: border-box;margin-bottom: 0.5em;}#sk-container-id-1 div.sk-estimator:hover {background-color: #d4ebff;}#sk-container-id-1 div.sk-parallel-item::after {content: \"\";width: 100%;border-bottom: 1px solid gray;flex-grow: 1;}#sk-container-id-1 div.sk-label:hover label.sk-toggleable__label {background-color: #d4ebff;}#sk-container-id-1 div.sk-serial::before {content: \"\";position: absolute;border-left: 1px solid gray;box-sizing: border-box;top: 0;bottom: 0;left: 50%;z-index: 0;}#sk-container-id-1 div.sk-serial {display: flex;flex-direction: column;align-items: center;background-color: white;padding-right: 0.2em;padding-left: 0.2em;position: relative;}#sk-container-id-1 div.sk-item {position: relative;z-index: 1;}#sk-container-id-1 div.sk-parallel {display: flex;align-items: stretch;justify-content: center;background-color: white;position: relative;}#sk-container-id-1 div.sk-item::before, #sk-container-id-1 div.sk-parallel-item::before {content: \"\";position: absolute;border-left: 1px solid gray;box-sizing: border-box;top: 0;bottom: 0;left: 50%;z-index: -1;}#sk-container-id-1 div.sk-parallel-item {display: flex;flex-direction: column;z-index: 1;position: relative;background-color: white;}#sk-container-id-1 div.sk-parallel-item:first-child::after {align-self: flex-end;width: 50%;}#sk-container-id-1 div.sk-parallel-item:last-child::after {align-self: flex-start;width: 50%;}#sk-container-id-1 div.sk-parallel-item:only-child::after {width: 0;}#sk-container-id-1 div.sk-dashed-wrapped {border: 1px dashed gray;margin: 0 0.4em 0.5em 0.4em;box-sizing: border-box;padding-bottom: 0.4em;background-color: white;}#sk-container-id-1 div.sk-label label {font-family: monospace;font-weight: bold;display: inline-block;line-height: 1.2em;}#sk-container-id-1 div.sk-label-container {text-align: center;}#sk-container-id-1 div.sk-container {/* jupyter's `normalize.less` sets `[hidden] { display: none; }` but bootstrap.min.css set `[hidden] { display: none !important; }` so we also need the `!important` here to be able to override the default hidden behavior on the sphinx rendered scikit-learn.org. See: https://github.com/scikit-learn/scikit-learn/issues/21755 */display: inline-block !important;position: relative;}#sk-container-id-1 div.sk-text-repr-fallback {display: none;}</style><div id=\"sk-container-id-1\" class=\"sk-top-container\"><div class=\"sk-text-repr-fallback\"><pre>RandomForestRegressor(random_state=42)</pre><b>In a Jupyter environment, please rerun this cell to show the HTML representation or trust the notebook. <br />On GitHub, the HTML representation is unable to render, please try loading this page with nbviewer.org.</b></div><div class=\"sk-container\" hidden><div class=\"sk-item\"><div class=\"sk-estimator sk-toggleable\"><input class=\"sk-toggleable__control sk-hidden--visually\" id=\"sk-estimator-id-1\" type=\"checkbox\" checked><label for=\"sk-estimator-id-1\" class=\"sk-toggleable__label sk-toggleable__label-arrow\">RandomForestRegressor</label><div class=\"sk-toggleable__content\"><pre>RandomForestRegressor(random_state=42)</pre></div></div></div></div></div>"
      ],
      "text/plain": [
       "RandomForestRegressor(random_state=42)"
      ]
     },
     "metadata": {},
     "execution_count": 65
    }
   ],
   "metadata": {}
  },
  {
   "cell_type": "code",
   "execution_count": 66,
   "source": [
    "# Make predictions on the test set\n",
    "y_pred = model.predict(X_test)"
   ],
   "outputs": [],
   "metadata": {}
  },
  {
   "cell_type": "code",
   "execution_count": 67,
   "source": [
    "# Evaluate the model\n",
    "accuracy = model.score(X_test, y_test)\n",
    "print(\"Accuracy:\", accuracy)"
   ],
   "outputs": [
    {
     "output_type": "stream",
     "name": "stdout",
     "text": [
      "Accuracy: 0.5237935785389906\n"
     ]
    }
   ],
   "metadata": {}
  },
  {
   "cell_type": "code",
   "execution_count": 68,
   "source": [
    "# Save the model as a file\n",
    "dump(model, \"TasteAI.joblib\")"
   ],
   "outputs": [
    {
     "output_type": "execute_result",
     "data": {
      "text/plain": [
       "['TasteAI.joblib']"
      ]
     },
     "metadata": {},
     "execution_count": 68
    }
   ],
   "metadata": {}
  },
  {
   "cell_type": "markdown",
   "source": [
    " ## **Use GuavaScript to predict testing data**"
   ],
   "metadata": {}
  },
  {
   "cell_type": "code",
   "execution_count": 69,
   "source": [
    "# Load the data from the CSV file\n",
    "new_data = pd.read_csv('TestData.csv')"
   ],
   "outputs": [],
   "metadata": {}
  },
  {
   "cell_type": "code",
   "execution_count": 70,
   "source": [
    "# Load the guava photos into memory\n",
    "photo_directory = 'PhotoData'"
   ],
   "outputs": [],
   "metadata": {}
  },
  {
   "cell_type": "code",
   "execution_count": 71,
   "source": [
    "# Load and preprocess the images\n",
    "new_images = []\n",
    "for image_file in new_data['File Name']:\n",
    "    image_file = f\"{photo_directory}/{image_file}\"\n",
    "    image = cv2.imread(image_file)\n",
    "    image = cv2.cvtColor(image, cv2.COLOR_BGR2GRAY)\n",
    "    image = cv2.resize(image, (128, 128))  # Adjust the size as needed\n",
    "    features = hog(image)  # Extract image features using HOG (Histogram of Oriented Gradients)\n",
    "    new_images.append(features)"
   ],
   "outputs": [],
   "metadata": {}
  },
  {
   "cell_type": "code",
   "execution_count": 72,
   "source": [
    "X_images_new = pd.DataFrame(new_images)"
   ],
   "outputs": [],
   "metadata": {}
  },
  {
   "cell_type": "code",
   "execution_count": 73,
   "source": [
    "# Combine image features with other features\n",
    "X_new = pd.concat([X_images_new, new_data.drop(['File Name'], axis=1)], axis=1)"
   ],
   "outputs": [],
   "metadata": {}
  },
  {
   "cell_type": "code",
   "execution_count": 74,
   "source": [
    "# Convert column names to strings\n",
    "X_new.columns = X_new.columns.astype(str)"
   ],
   "outputs": [],
   "metadata": {}
  },
  {
   "cell_type": "code",
   "execution_count": 75,
   "source": [
    "# Encode categorical variables if any\n",
    "encoder = LabelEncoder()\n",
    "X_new['Origin'] = encoder.fit_transform(X_new['Origin'])"
   ],
   "outputs": [],
   "metadata": {}
  },
  {
   "cell_type": "code",
   "execution_count": 76,
   "source": [
    "# Scale the features\n",
    "scaler = StandardScaler()\n",
    "X_new_scaled = scaler.fit_transform(X_new.iloc[:, -9:])"
   ],
   "outputs": [],
   "metadata": {}
  },
  {
   "cell_type": "code",
   "execution_count": 77,
   "source": [
    "# Assign weights to features\n",
    "feature_weights = [1.5, 3, 1.5, 1.5, 1.5, 2, 2, 2, 2]  # Adjust the weights as desired\n",
    "X_new_scaled_weighted = X_new_scaled * feature_weights"
   ],
   "outputs": [],
   "metadata": {}
  },
  {
   "cell_type": "code",
   "execution_count": 78,
   "source": [
    "# Select the non-scaled features\n",
    "X_new_non_scaled = 1000000 * X_new.iloc[:, :-9]"
   ],
   "outputs": [],
   "metadata": {}
  },
  {
   "cell_type": "code",
   "execution_count": 79,
   "source": [
    "# Combine the scaled and non-scaled features\n",
    "X_new_combined = pd.concat([X_new_non_scaled, pd.DataFrame(X_new_scaled_weighted, columns=X_new.columns[-9:])], axis=1)"
   ],
   "outputs": [],
   "metadata": {}
  },
  {
   "cell_type": "code",
   "execution_count": 80,
   "source": [
    "# Scale the combined features\n",
    "X_new = scaler.fit_transform(X_new_combined)"
   ],
   "outputs": [],
   "metadata": {}
  },
  {
   "cell_type": "code",
   "execution_count": 81,
   "source": [
    "# Make predictions on the test set\n",
    "y_new = model.predict(X_new)"
   ],
   "outputs": [],
   "metadata": {}
  },
  {
   "cell_type": "code",
   "execution_count": 82,
   "source": [
    "# Convert predictions to integers\n",
    "y_new = y_new.astype(int)"
   ],
   "outputs": [],
   "metadata": {}
  },
  {
   "cell_type": "code",
   "execution_count": 83,
   "source": [
    "# Add the predicted values as new columns to the DataFrame\n",
    "new_data['Sweetness'] = y_new[:, 0]\n",
    "new_data['Sourness'] = y_new[:, 1]\n",
    "new_data['Crunchiness'] = y_new[:, 2]\n",
    "new_data['Hardness'] = y_new[:, 3]\n",
    "new_data['Flavor'] = y_new[:, 4]"
   ],
   "outputs": [],
   "metadata": {}
  },
  {
   "cell_type": "code",
   "execution_count": 84,
   "source": [
    "# Save the results to a new CSV file\n",
    "new_data.to_csv('ResultData.csv', index=False)"
   ],
   "outputs": [],
   "metadata": {}
  },
  {
   "cell_type": "markdown",
   "source": [
    " ## **Become Gradio**"
   ],
   "metadata": {}
  },
  {
   "cell_type": "markdown",
   "source": [
    " ### **Create Gradio**"
   ],
   "metadata": {}
  },
  {
   "cell_type": "code",
   "execution_count": 85,
   "source": [
    "# Load the AI models and necessary data\n",
    "DayAI = tf.keras.models.load_model(\"DayAI.h5\")\n",
    "TasteAI = load(\"TasteAI.joblib\")\n",
    "guava_data = pd.read_csv(\"CodeData.csv\")\n",
    "origins = guava_data['Traceability Code'].unique().tolist()"
   ],
   "outputs": [],
   "metadata": {}
  },
  {
   "cell_type": "code",
   "execution_count": 86,
   "source": [
    "# Function to preprocess the input photo\n",
    "def preprocess_image(image):\n",
    "    # Resize the image to the desired input size\n",
    "    image = image.resize((224, 224))\n",
    "    # Convert the image to a NumPy array\n",
    "    image_array = np.array(image)\n",
    "    # Create an ImageDataGenerator for data augmentation\n",
    "    image_datagen = ImageDataGenerator(\n",
    "        rescale=1./255,\n",
    "        rotation_range=20,\n",
    "        width_shift_range=0.2,\n",
    "        height_shift_range=0.2,\n",
    "        shear_range=0.2,\n",
    "        zoom_range=0.2,\n",
    "        horizontal_flip=True,\n",
    "        vertical_flip=True,\n",
    "        fill_mode='nearest'\n",
    "    )\n",
    "    # Expand dimensions to match the expected input shape of the model\n",
    "    image_array = np.expand_dims(image_array, axis=0)\n",
    "    # Generate augmented image data\n",
    "    image_array_augmented = image_datagen.flow(image_array, batch_size=32)\n",
    "    # Access the augmented image data\n",
    "    augmented_image_batch = next(image_array_augmented)\n",
    "    # The augmented images are stored in augmented_image_batch\n",
    "    augmented_image = augmented_image_batch\n",
    "    return augmented_image"
   ],
   "outputs": [],
   "metadata": {}
  },
  {
   "cell_type": "code",
   "execution_count": 87,
   "source": [
    "# Function to predict the day using the first AI model\n",
    "def predict_day(image):\n",
    "    # Preprocess the image\n",
    "    image_array = preprocess_image(image)\n",
    "    # Predict the day\n",
    "    day_prediction = DayAI.predict(image_array)\n",
    "    return int(day_prediction)"
   ],
   "outputs": [],
   "metadata": {}
  },
  {
   "cell_type": "code",
   "execution_count": 88,
   "source": [
    "# Function to predict the taste using the second AI model\n",
    "def predict_taste(image, day, code):\n",
    "    image = cv2.imread(image)\n",
    "    image = cv2.cvtColor(image, cv2.COLOR_BGR2GRAY)\n",
    "    image = cv2.resize(image, (128, 128))  # Adjust the size as needed\n",
    "    features = hog(image)  # Extract image features using HOG (Histogram of Oriented Gradients)\n",
    "    features = np.array(features)\n",
    "    features = pd.DataFrame([features])\n",
    "    # Fetch the data for the given code from guava_data\n",
    "    guava_info = guava_data.loc[guava_data['Traceability Code'] == int(code)]\n",
    "    if guava_info.empty:\n",
    "        # Handle the case when no matching data is found\n",
    "        return \"No data found for the given code\"\n",
    "    guava_info = guava_info.iloc[0]\n",
    "    # Extract the required information\n",
    "    origin_data = [guava_info['Origin'], guava_info['平均產量(每公頃)'], guava_info['年雨量'], guava_info['年均溫'], guava_info['灌溉/澆水頻率'], guava_info['施肥頻率'], guava_info['田間栽培管理/耕地管理頻率'], guava_info['有害生物防治頻率']]\n",
    "    # Combine day and origin data\n",
    "    input_data = np.array([origin_data[:1] + [day] + origin_data[1:]])\n",
    "    input_data = pd.DataFrame(input_data)\n",
    "    # Encode categorical variables if any\n",
    "    encoder = LabelEncoder()\n",
    "    input_data[0] = encoder.fit_transform(input_data[0])\n",
    "\n",
    "    # Combine image features with other features\n",
    "    input_data = pd.concat([features, input_data], axis=1)\n",
    "\n",
    "    # Convert column names to strings\n",
    "    input_data.rename(columns={input_data.columns[-9]: 'Origin',\n",
    "                                        input_data.columns[-8]: 'Day',\n",
    "                                        input_data.columns[-7]: '平均產量(每公頃)',\n",
    "                                        input_data.columns[-6]: '年雨量',\n",
    "                                        input_data.columns[-5]: '年均溫',\n",
    "                                        input_data.columns[-4]: '灌溉/澆水頻率',\n",
    "                                        input_data.columns[-3]: '施肥頻率',\n",
    "                                        input_data.columns[-2]: '田間栽培管理/耕地管理頻率',\n",
    "                                        input_data.columns[-1]: '有害生物防治頻率'}, inplace=True)\n",
    "    input_data.columns = input_data.columns.astype(str)\n",
    "\n",
    "    # Scale the features\n",
    "    scaler = StandardScaler()\n",
    "    input_data_scaled = scaler.fit_transform(input_data.iloc[:, -9:])\n",
    "\n",
    "    # Assign weights to features\n",
    "    feature_weights = [1.5, 3, 1.5, 1.5, 1.5, 2, 2, 2, 2]  # Adjust the weights as desired\n",
    "    input_data_scaled_weighted = input_data_scaled * feature_weights\n",
    "\n",
    "    # Select the non-scaled features\n",
    "    input_data_non_scaled = 1000000 * input_data.iloc[:, :-9]\n",
    "\n",
    "    # Combine the scaled and non-scaled features\n",
    "    input_data_combined = pd.concat([input_data_non_scaled, pd.DataFrame(input_data_scaled_weighted, columns=input_data.columns[-9:])], axis=1)\n",
    "\n",
    "    # Scale the combined features\n",
    "    input_data = scaler.fit_transform(input_data_combined)\n",
    "\n",
    "    # Predict the taste\n",
    "    taste_prediction = TasteAI.predict(input_data)\n",
    "    # Convert predictions to integers\n",
    "    taste_prediction = taste_prediction.astype(int)\n",
    "    return taste_prediction"
   ],
   "outputs": [],
   "metadata": {}
  },
  {
   "cell_type": "code",
   "execution_count": 89,
   "source": [
    "# Define the Gradio interface\n",
    "def gradio_interface(image, code):\n",
    "    # Preprocess the image\n",
    "    image = Image.fromarray(image.astype('uint8'), 'RGB')\n",
    "    # Predict the day\n",
    "    day = predict_day(image)\n",
    "    # Predict the taste\n",
    "    # Save the image array to a temporary file\n",
    "    with tempfile.NamedTemporaryFile(suffix=\".png\", delete=False) as temp:\n",
    "        temp_path = temp.name\n",
    "        image.save(temp_path)\n",
    "    taste = predict_taste(temp_path, day, code)\n",
    "    # Delete the temporary file\n",
    "    os.remove(temp_path)\n",
    "    # Return the predicted taste\n",
    "    return [taste[0, 0], taste[0, 1], taste[0, 2], taste[0, 3], taste[0, 4]]"
   ],
   "outputs": [],
   "metadata": {}
  },
  {
   "cell_type": "code",
   "execution_count": 90,
   "source": [
    "# Set up the Gradio interface\n",
    "origin_dropdown = gr.inputs.Dropdown(choices=origins, label=\"Traceability Code\")\n",
    "iface = gr.Interface(\n",
    "    fn=gradio_interface,\n",
    "    inputs=[\"image\", origin_dropdown],\n",
    "    outputs=[\"text\", \"text\", \"text\", \"text\", \"text\"],\n",
    "    title=\"Guava Quality Predictor\",\n",
    "    description=\"Predict the Quality of a guava based on its photo and traceable information. Output0, output1, output2, output3, and output4 correspond to Sweetness, Sourness, Crunchiness, Hardness, and Flavor, respectively.\"\n",
    ")"
   ],
   "outputs": [],
   "metadata": {}
  },
  {
   "cell_type": "code",
   "execution_count": 101,
   "source": [
    "# Launch the Gradio interface\n",
    "iface.launch()"
   ],
   "outputs": [
    {
     "output_type": "stream",
     "name": "stdout",
     "text": [
      "IMPORTANT: You are using gradio version 2.4.0, however version 3.14.0 is available, please upgrade.\n",
      "--------\n",
      "Running locally at: http://127.0.0.1:7867/\n",
      "To create a public link, set `share=True` in `launch()`.\n"
     ]
    },
    {
     "output_type": "display_data",
     "data": {
      "text/html": [
       "\n",
       "        <iframe\n",
       "            width=\"900\"\n",
       "            height=\"500\"\n",
       "            src=\"http://127.0.0.1:7867/\"\n",
       "            frameborder=\"0\"\n",
       "            allowfullscreen\n",
       "            \n",
       "        ></iframe>\n",
       "        "
      ],
      "text/plain": [
       "<IPython.lib.display.IFrame at 0x156412fb250>"
      ]
     },
     "metadata": {}
    },
    {
     "output_type": "execute_result",
     "data": {
      "text/plain": [
       "(<Flask 'gradio.networking'>, 'http://127.0.0.1:7867/', None)"
      ]
     },
     "metadata": {},
     "execution_count": 101
    }
   ],
   "metadata": {}
  }
 ],
 "nbformat": 4,
 "nbformat_minor": 2,
 "metadata": {
  "language_info": {
   "codemirror_mode": {
    "name": "ipython",
    "version": 3
   },
   "file_extension": ".py",
   "mimetype": "text/x-python",
   "name": "python",
   "nbconvert_exporter": "python",
   "pygments_lexer": "ipython3",
   "version": 3
  },
  "orig_nbformat": 4
 }
}